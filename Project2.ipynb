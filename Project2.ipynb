{
 "cells": [
  {
   "cell_type": "markdown",
   "metadata": {},
   "source": [
    "## Regex time"
   ]
  },
  {
   "cell_type": "code",
   "execution_count": null,
   "metadata": {},
   "outputs": [],
   "source": [
    "from typing import Generator\n",
    "import tree_sitter_java as tsjava\n",
    "from tree_sitter import Language, Parser, Tree, Node\n",
    "import re # Regular expressions module here"
   ]
  },
  {
   "cell_type": "code",
   "execution_count": 2,
   "metadata": {},
   "outputs": [],
   "source": [
    "parser = Parser(Language(tsjava.language()))\n",
    "with open('Ivy.java') as f:\n",
    "    source_code = f.read()\n",
    "tree = parser.parse(bytes(source_code, 'utf8'))\n",
    "\n",
    "def traverse_tree(tree: Tree) -> Generator[Node, None, None]:\n",
    "    cursor = tree.walk()\n",
    "\n",
    "    visited_children = False\n",
    "    while True:\n",
    "        if not visited_children:\n",
    "            yield cursor.node\n",
    "            if not cursor.goto_first_child():\n",
    "                visited_children = True\n",
    "        elif cursor.goto_next_sibling():\n",
    "            visited_children = False\n",
    "        elif not cursor.goto_parent():\n",
    "            break"
   ]
  },
  {
   "cell_type": "code",
   "execution_count": 3,
   "metadata": {},
   "outputs": [],
   "source": [
    "class_nodes = []\n",
    "method_nodes = []\n",
    "for node in traverse_tree(tree):\n",
    "    if node.type == 'class_declaration':\n",
    "        class_nodes.append(node)\n",
    "    if node.type == 'method_declaration':\n",
    "        method_nodes.append(node)"
   ]
  },
  {
   "cell_type": "code",
   "execution_count": 14,
   "metadata": {},
   "outputs": [
    {
     "name": "stdout",
     "output_type": "stream",
     "text": [
      "public class Ivy {\n",
      "    /**\n",
      "     * Callback used to execute a set of Ivy related methods within an {@link IvyContext}.\n",
      "     *\n",
      "     * @see Ivy#execute(org.apache.ivy.Ivy.IvyCallback)\n",
      "     */\n",
      "    public interface IvyCallback {\n",
      "        /**\n",
      "         * Executes Ivy related job within an {@link IvyContext}\n",
      "         *\n",
      "         * @param ivy\n",
      "         *            the {@link Ivy} instance to which this callback is related\n",
      "         * @param context\n",
      "         *            the {@link IvyContext} in which this \n"
     ]
    }
   ],
   "source": [
    "text = source_code[class_nodes[0].start_byte:class_nodes[0].end_byte]\n",
    "print(text[:500])"
   ]
  },
  {
   "cell_type": "code",
   "execution_count": 5,
   "metadata": {},
   "outputs": [
    {
     "data": {
      "text/plain": [
       "<re.Match object; span=(0, 18), match='public class Ivy {'>"
      ]
     },
     "execution_count": 5,
     "metadata": {},
     "output_type": "execute_result"
    }
   ],
   "source": [
    "# Get class declaration\n",
    "# Source: https://www.reddit.com/r/regex/comments/31sdor/trying_to_match_class_names_in_java/\n",
    "regex = r'^.*class\\s+([a-zA-Z][a-zA-Z0-9]*)(\\s*\\{|)'\n",
    "match = re.search(regex, text) # Use search() to get the first instance of a class declaration in case there are nested classes\n",
    "match"
   ]
  },
  {
   "cell_type": "code",
   "execution_count": 6,
   "metadata": {},
   "outputs": [
    {
     "data": {
      "text/plain": [
       "'public class Ivy {'"
      ]
     },
     "execution_count": 6,
     "metadata": {},
     "output_type": "execute_result"
    }
   ],
   "source": [
    "match.group(0)"
   ]
  },
  {
   "cell_type": "code",
   "execution_count": 7,
   "metadata": {},
   "outputs": [
    {
     "data": {
      "text/plain": [
       "'Ivy'"
      ]
     },
     "execution_count": 7,
     "metadata": {},
     "output_type": "execute_result"
    }
   ],
   "source": [
    "regex = r'(.*class)|(\\{$)|( )'\n",
    "re.sub(regex, '', match.group(0))"
   ]
  },
  {
   "cell_type": "code",
   "execution_count": 8,
   "metadata": {},
   "outputs": [
    {
     "data": {
      "text/plain": [
       "['String getIvyVersion() {',\n",
       " 'String getIvyDate() {',\n",
       " 'String getIvyHomeURL() {',\n",
       " 'Ivy newInstance() {',\n",
       " 'Ivy newInstance(IvySettings settings) {',\n",
       " 'public Ivy() {',\n",
       " 'void bind() {',\n",
       " 'new TransferListener() {',\n",
       " 'void transferProgress(TransferEvent evt) {',\n",
       " 'Object execute(IvyCallback callback) {',\n",
       " 'void pushContext() {',\n",
       " 'void popContext() {',\n",
       " 'boolean check(URL ivyFile, String resolvername) {',\n",
       " 'ResolvedModuleRevision findModule(ModuleRevisionId mrid) {',\n",
       " 'void interrupt() {',\n",
       " 'void interrupt(Thread operatingThread) {',\n",
       " 'boolean isInterrupted() {',\n",
       " 'void checkInterrupted() {',\n",
       " 'String getWorkingRevision() {',\n",
       " 'ResolutionCacheManager getResolutionCacheManager() {',\n",
       " 'void assertBound() {',\n",
       " 'void postConfigure() {',\n",
       " 'String getVariable(String name) {',\n",
       " 'String substitute(String str) {',\n",
       " 'void setVariable(String varName, String value) {',\n",
       " 'IvySettings getSettings() {',\n",
       " 'EventManager getEventManager() {',\n",
       " 'CheckEngine getCheckEngine() {',\n",
       " 'void setCheckEngine(CheckEngine checkEngine) {',\n",
       " 'DeliverEngine getDeliverEngine() {',\n",
       " 'void setDeliverEngine(DeliverEngine deliverEngine) {',\n",
       " 'InstallEngine getInstallEngine() {',\n",
       " 'void setInstallEngine(InstallEngine installEngine) {',\n",
       " 'PublishEngine getPublishEngine() {',\n",
       " 'void setPublishEngine(PublishEngine publishEngine) {',\n",
       " 'ResolveEngine getResolveEngine() {',\n",
       " 'void setResolveEngine(ResolveEngine resolveEngine) {',\n",
       " 'RetrieveEngine getRetrieveEngine() {',\n",
       " 'void setRetrieveEngine(RetrieveEngine retrieveEngine) {',\n",
       " 'SearchEngine getSearchEngine() {',\n",
       " 'void setSearchEngine(SearchEngine searchEngine) {',\n",
       " 'SortEngine getSortEngine() {',\n",
       " 'void setSortEngine(SortEngine sortEngine) {',\n",
       " 'RepositoryManagementEngine getRepositoryEngine() {',\n",
       " 'void setRepositoryEngine(RepositoryManagementEngine repositoryEngine) {',\n",
       " 'void setEventManager(EventManager eventManager) {',\n",
       " 'void setSettings(IvySettings settings) {',\n",
       " 'MessageLoggerEngine getLoggerEngine() {']"
      ]
     },
     "execution_count": 8,
     "metadata": {},
     "output_type": "execute_result"
    }
   ],
   "source": [
    "# Find all method declarations in the class (because why not)\n",
    "# Source: https://stackoverflow.com/questions/68633/regex-that-will-match-a-java-method-declaration\n",
    "regex = r'\\w+ +\\w+ *\\([^\\)]*\\) *\\{'\n",
    "re.findall(regex, text)"
   ]
  },
  {
   "cell_type": "code",
   "execution_count": 9,
   "metadata": {},
   "outputs": [
    {
     "name": "stdout",
     "output_type": "stream",
     "text": [
      "public static Ivy newInstance() {\n",
      "        Ivy ivy = new Ivy();\n",
      "        ivy.bind();\n",
      "        return ivy;\n",
      "    }\n"
     ]
    }
   ],
   "source": [
    "# Now find method names\n",
    "idx = 4\n",
    "text = source_code[method_nodes[idx].start_byte:method_nodes[idx].end_byte]\n",
    "print(text)"
   ]
  },
  {
   "cell_type": "code",
   "execution_count": 10,
   "metadata": {},
   "outputs": [
    {
     "data": {
      "text/plain": [
       "<re.Match object; span=(14, 33), match='Ivy newInstance() {'>"
      ]
     },
     "execution_count": 10,
     "metadata": {},
     "output_type": "execute_result"
    }
   ],
   "source": [
    "regex = r'\\w+ +\\w+ *\\([^\\)]*\\) *\\{' # Same as before\n",
    "match = re.search(regex, text) # Use search() to get the first instance of a class declaration in case there are nested classes\n",
    "match"
   ]
  },
  {
   "cell_type": "code",
   "execution_count": 11,
   "metadata": {},
   "outputs": [
    {
     "data": {
      "text/plain": [
       "<re.Match object; span=(4, 17), match='newInstance()'>"
      ]
     },
     "execution_count": 11,
     "metadata": {},
     "output_type": "execute_result"
    }
   ],
   "source": [
    "regex = r'[^\\s]+\\(\\)'\n",
    "match = re.search(regex, match.group(0))\n",
    "match"
   ]
  },
  {
   "cell_type": "code",
   "execution_count": 12,
   "metadata": {},
   "outputs": [
    {
     "data": {
      "text/plain": [
       "'newInstance'"
      ]
     },
     "execution_count": 12,
     "metadata": {},
     "output_type": "execute_result"
    }
   ],
   "source": [
    "match.group(0)[:-2]"
   ]
  }
 ],
 "metadata": {
  "kernelspec": {
   "display_name": "csci420_05",
   "language": "python",
   "name": "python3"
  },
  "language_info": {
   "codemirror_mode": {
    "name": "ipython",
    "version": 3
   },
   "file_extension": ".py",
   "mimetype": "text/x-python",
   "name": "python",
   "nbconvert_exporter": "python",
   "pygments_lexer": "ipython3",
   "version": "3.12.7"
  }
 },
 "nbformat": 4,
 "nbformat_minor": 2
}
