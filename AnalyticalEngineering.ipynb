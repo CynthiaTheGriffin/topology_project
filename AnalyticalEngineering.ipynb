{
 "cells": [
  {
   "cell_type": "markdown",
   "metadata": {},
   "source": [
    "## Analytical Engineering Test\n",
    "\n",
    "### Get embeddings by subdirectory and granularity level"
   ]
  },
  {
   "cell_type": "code",
   "execution_count": 4,
   "metadata": {},
   "outputs": [],
   "source": [
    "import glob\n",
    "import re"
   ]
  },
  {
   "cell_type": "code",
   "execution_count": 53,
   "metadata": {},
   "outputs": [
    {
     "data": {
      "text/plain": [
       "[(0, 2, 'class'), (8, 11, 'class'), (17, 20, 'method'), (27, 33, 'token')]"
      ]
     },
     "execution_count": 53,
     "metadata": {},
     "output_type": "execute_result"
    }
   ],
   "source": [
    "# Detect embedding type\n",
    "filename = 'c.Class1_c.Class2_m.Method1_token(0).json'\n",
    "filename = filename[:-5]\n",
    "nesting = []\n",
    "for m in re.finditer(r'(^|_)(c.|m.|token)', filename):\n",
    "    # match m.group():\n",
    "    #     case 'c.' | '_c.': level = 'class'\n",
    "    #     case 'm.' | '_m.': level = 'method'\n",
    "    #     case 'token' | '_token': level = 'token'\n",
    "    #     case _:\n",
    "    #         print(\"Something has gone wrong!\")\n",
    "    #         level = ''\n",
    "    if (m.group() == 'c.') or (m.group() == '_c.'): level = 'class'\n",
    "    elif (m.group() == 'm.') or (m.group() == '_m.'): level = 'method'\n",
    "    elif (m.group() == 'token') or (m.group() == '_token'): level = 'token'\n",
    "    else:\n",
    "        print(\"Something has gone wrong!\")\n",
    "        level = ''\n",
    "\n",
    "    nesting.append((m.start(), m.end(), level))\n",
    "nesting"
   ]
  },
  {
   "cell_type": "code",
   "execution_count": null,
   "metadata": {},
   "outputs": [
    {
     "name": "stdout",
     "output_type": "stream",
     "text": [
      "Class1\n",
      "Class2\n",
      "Method1\n",
      "token(0)\n"
     ]
    }
   ],
   "source": [
    "for i in range(1, len(nesting)):\n",
    "    cur = nesting[i]\n",
    "    prev = nesting[i-1]\n",
    "\n",
    "    # Get identifier name and/or duplicate number\n",
    "    print(filename[prev[1] : cur[0]])\n",
    "\n",
    "# Print the last level\n",
    "if cur[2] == 'token':\n",
    "    print('token' + filename[cur[1]:])\n",
    "else:\n",
    "    print(filename[cur[1]:])"
   ]
  },
  {
   "cell_type": "code",
   "execution_count": null,
   "metadata": {},
   "outputs": [],
   "source": [
    "def parse_json_filename(filename:str) -> tuple[str, list]:\n",
    "    '''\n",
    "    Parse JSON filesnames produced by CodeEmbeddingsGenerator.py\n",
    "    into the classes, methods, and tokens they are located in.\n",
    "\n",
    "    Args:\n",
    "        filename: JSON filename to parse.\n",
    "    \n",
    "    Returns:\n",
    "        level: Coding level of granularity (i.e., \"class\", \"method\", \"token\")\n",
    "        identifiers: An ordered list of the nested classes, methods, and/or token.\n",
    "    '''\n",
    "    f = filename[:-5]\n",
    "    nesting = []\n",
    "    for m in re.finditer(r'(^|_)(c.|m.|token)', f):\n",
    "        if (m.group() == 'c.') or (m.group() == '_c.'): level = 'class'\n",
    "        elif (m.group() == 'm.') or (m.group() == '_m.'): level = 'method'\n",
    "        elif (m.group() == 'token') or (m.group() == '_token'): level = 'token'\n",
    "        else:\n",
    "            print(\"Something has gone wrong!\")\n",
    "            level = ''\n",
    "\n",
    "        nesting.append((m.start(), m.end(), level))\n",
    "\n",
    "    identifiers = []\n",
    "    for i in range(1, len(nesting)):\n",
    "        end = nesting[i]\n",
    "        start = nesting[i-1]\n",
    "\n",
    "        # Get identifier name and duplicate number \n",
    "        # (or just duplicate number if its a token)\n",
    "        name = f[start[1] : end[0]]\n",
    "        identifiers.append((name, start[2])) # Store name and level\n",
    "\n",
    "    # Get last name and level\n",
    "    last = nesting[-1]\n",
    "    name = f[last[1]:] \n",
    "    identifiers.append((name, last[2]))\n",
    "\n",
    "    # Return embedding level and parsing results\n",
    "    return last[2], identifiers"
   ]
  },
  {
   "cell_type": "code",
   "execution_count": 28,
   "metadata": {},
   "outputs": [
    {
     "name": "stdout",
     "output_type": "stream",
     "text": [
      "('class', [('ClassA', 'class')])\n",
      "('class', [('ClassA', 'class'), ('ClassB', 'class')])\n",
      "('method', [('ClassA', 'class'), ('MethodA', 'method'), ('MethodB', 'method')])\n",
      "('token', [('ClassA', 'class'), ('', 'token')])\n",
      "('token', [('ClassA', 'class'), ('(0)', 'token')])\n"
     ]
    }
   ],
   "source": [
    "# Test\n",
    "print(parse_json_filename('c.ClassA.json'))\n",
    "print(parse_json_filename('c.ClassA_c.ClassB.json'))\n",
    "print(parse_json_filename('c.ClassA_m.MethodA_m.MethodB.json'))\n",
    "print(parse_json_filename('c.ClassA_token.json'))\n",
    "print(parse_json_filename('c.ClassA_token(0).json'))"
   ]
  },
  {
   "cell_type": "code",
   "execution_count": 18,
   "metadata": {},
   "outputs": [],
   "source": [
    "def get_embedding_paths(sub_dirs:list[str] = ['data'], \n",
    "                        levels:list[str] = ['class', 'method', 'token']\n",
    "                        ) -> tuple[list[str], list[str]]:\n",
    "    '''\n",
    "    Return file paths for JSON files created by CodeEmbeddingsGenerator.py.\n",
    "    Collects all JSON files in a data folder by default.\n",
    "\n",
    "    sub_dirs: Paths to subdirectories within the data folder to collect the JSON files from.\n",
    "    levels: Embedding levels to collect (i.e., \"class\", \"method\", \"token\").\n",
    "\n",
    "    Returns:\n",
    "        embed_paths: Paths to the JSON files.\n",
    "        embed_levels: Embedding levels associated with each path in embed_paths.\n",
    "    '''\n",
    "    for level in levels:\n",
    "        if level not in ('class', 'method', 'token'):\n",
    "            print(f'Warning: Invalid level name \"{level}\".')\n",
    "            \n",
    "    embed_paths = []\n",
    "    embed_levels = []\n",
    "    for dir in sub_dirs:\n",
    "        # Search through all JSON files\n",
    "        for path in glob.glob(dir + '/**/*.json', recursive=True):\n",
    "            filename = re.split(r'\\\\|/', path)[-1] # Get filename (and file extension)\n",
    "            level, _ = parse_json_filename(filename) # Get embedding level\n",
    "            # Collect paths to embeddings of certain levels\n",
    "            if (level in levels) and (path not in embed_paths):\n",
    "                embed_paths.append(path)\n",
    "                embed_levels.append(level)\n",
    "    return embed_paths, embed_levels"
   ]
  },
  {
   "cell_type": "code",
   "execution_count": 20,
   "metadata": {},
   "outputs": [
    {
     "data": {
      "text/plain": [
       "['data/ivy/Ivy\\\\c.Ivy.json',\n",
       " 'data/ivy/Ivy\\\\c.Ivy_m.assertBound.json',\n",
       " 'data/ivy/Ivy\\\\c.Ivy_m.bind.json',\n",
       " 'data/ivy/Ivy\\\\c.Ivy_m.bind_m.transferProgress.json',\n",
       " 'data/ivy/Ivy\\\\c.Ivy_m.check.json',\n",
       " 'data/ivy/Ivy\\\\c.Ivy_m.checkInterrupted.json',\n",
       " 'data/ivy/Ivy\\\\c.Ivy_m.configure(0).json',\n",
       " 'data/ivy/Ivy\\\\c.Ivy_m.configure.json',\n",
       " 'data/ivy/Ivy\\\\c.Ivy_m.configureDefault.json',\n",
       " 'data/ivy/Ivy\\\\c.Ivy_m.configureDefault14.json',\n",
       " 'data/ivy/Ivy\\\\c.Ivy_m.deliver(0).json',\n",
       " 'data/ivy/Ivy\\\\c.Ivy_m.deliver(1).json',\n",
       " 'data/ivy/Ivy\\\\c.Ivy_m.deliver.json',\n",
       " 'data/ivy/Ivy\\\\c.Ivy_m.doInIvyContext.json',\n",
       " 'data/ivy/Ivy\\\\c.Ivy_m.execute.json',\n",
       " 'data/ivy/Ivy\\\\c.Ivy_m.findModule.json',\n",
       " 'data/ivy/Ivy\\\\c.Ivy_m.getCheckEngine.json',\n",
       " 'data/ivy/Ivy\\\\c.Ivy_m.getDeliverEngine.json',\n",
       " 'data/ivy/Ivy\\\\c.Ivy_m.getEventManager.json',\n",
       " 'data/ivy/Ivy\\\\c.Ivy_m.getInstallEngine.json',\n",
       " 'data/ivy/Ivy\\\\c.Ivy_m.getIvyDate.json',\n",
       " 'data/ivy/Ivy\\\\c.Ivy_m.getIvyHomeURL.json',\n",
       " 'data/ivy/Ivy\\\\c.Ivy_m.getIvyVersion.json',\n",
       " 'data/ivy/Ivy\\\\c.Ivy_m.getLoggerEngine.json',\n",
       " 'data/ivy/Ivy\\\\c.Ivy_m.getPublishEngine.json',\n",
       " 'data/ivy/Ivy\\\\c.Ivy_m.getRepositoryEngine.json',\n",
       " 'data/ivy/Ivy\\\\c.Ivy_m.getResolutionCacheManager.json',\n",
       " 'data/ivy/Ivy\\\\c.Ivy_m.getResolveEngine.json',\n",
       " 'data/ivy/Ivy\\\\c.Ivy_m.getRetrieveEngine.json',\n",
       " 'data/ivy/Ivy\\\\c.Ivy_m.getSearchEngine.json',\n",
       " 'data/ivy/Ivy\\\\c.Ivy_m.getSettings.json',\n",
       " 'data/ivy/Ivy\\\\c.Ivy_m.getSortEngine.json',\n",
       " 'data/ivy/Ivy\\\\c.Ivy_m.getVariable.json',\n",
       " 'data/ivy/Ivy\\\\c.Ivy_m.getWorkingRevision.json',\n",
       " 'data/ivy/Ivy\\\\c.Ivy_m.install.json',\n",
       " 'data/ivy/Ivy\\\\c.Ivy_m.interrupt(0).json',\n",
       " 'data/ivy/Ivy\\\\c.Ivy_m.interrupt.json',\n",
       " 'data/ivy/Ivy\\\\c.Ivy_m.isInterrupted.json',\n",
       " 'data/ivy/Ivy\\\\c.Ivy_m.listModuleEntries.json',\n",
       " 'data/ivy/Ivy\\\\c.Ivy_m.listModules(0).json',\n",
       " 'data/ivy/Ivy\\\\c.Ivy_m.listModules(1).json',\n",
       " 'data/ivy/Ivy\\\\c.Ivy_m.listModules.json',\n",
       " 'data/ivy/Ivy\\\\c.Ivy_m.listOrganisationEntries.json',\n",
       " 'data/ivy/Ivy\\\\c.Ivy_m.listOrganisations.json',\n",
       " 'data/ivy/Ivy\\\\c.Ivy_m.listRevisionEntries.json',\n",
       " 'data/ivy/Ivy\\\\c.Ivy_m.listRevisions.json',\n",
       " 'data/ivy/Ivy\\\\c.Ivy_m.listTokenValues.json',\n",
       " 'data/ivy/Ivy\\\\c.Ivy_m.newInstance(0).json',\n",
       " 'data/ivy/Ivy\\\\c.Ivy_m.newInstance.json',\n",
       " 'data/ivy/Ivy\\\\c.Ivy_m.popContext.json',\n",
       " 'data/ivy/Ivy\\\\c.Ivy_m.postConfigure.json',\n",
       " 'data/ivy/Ivy\\\\c.Ivy_m.publish.json',\n",
       " 'data/ivy/Ivy\\\\c.Ivy_m.pushContext.json',\n",
       " 'data/ivy/Ivy\\\\c.Ivy_m.resolve(0).json',\n",
       " 'data/ivy/Ivy\\\\c.Ivy_m.resolve(1).json',\n",
       " 'data/ivy/Ivy\\\\c.Ivy_m.resolve(2).json',\n",
       " 'data/ivy/Ivy\\\\c.Ivy_m.resolve(3).json',\n",
       " 'data/ivy/Ivy\\\\c.Ivy_m.resolve(4).json',\n",
       " 'data/ivy/Ivy\\\\c.Ivy_m.resolve.json',\n",
       " 'data/ivy/Ivy\\\\c.Ivy_m.retrieve(0).json',\n",
       " 'data/ivy/Ivy\\\\c.Ivy_m.retrieve.json',\n",
       " 'data/ivy/Ivy\\\\c.Ivy_m.setCheckEngine.json',\n",
       " 'data/ivy/Ivy\\\\c.Ivy_m.setDeliverEngine.json',\n",
       " 'data/ivy/Ivy\\\\c.Ivy_m.setEventManager.json',\n",
       " 'data/ivy/Ivy\\\\c.Ivy_m.setInstallEngine.json',\n",
       " 'data/ivy/Ivy\\\\c.Ivy_m.setPublishEngine.json',\n",
       " 'data/ivy/Ivy\\\\c.Ivy_m.setRepositoryEngine.json',\n",
       " 'data/ivy/Ivy\\\\c.Ivy_m.setResolveEngine.json',\n",
       " 'data/ivy/Ivy\\\\c.Ivy_m.setRetrieveEngine.json',\n",
       " 'data/ivy/Ivy\\\\c.Ivy_m.setSearchEngine.json',\n",
       " 'data/ivy/Ivy\\\\c.Ivy_m.setSettings.json',\n",
       " 'data/ivy/Ivy\\\\c.Ivy_m.setSortEngine.json',\n",
       " 'data/ivy/Ivy\\\\c.Ivy_m.setVariable.json',\n",
       " 'data/ivy/Ivy\\\\c.Ivy_m.sortModuleDescriptors.json',\n",
       " 'data/ivy/Ivy\\\\c.Ivy_m.sortNodes.json',\n",
       " 'data/ivy/Ivy\\\\c.Ivy_m.substitute.json']"
      ]
     },
     "execution_count": 20,
     "metadata": {},
     "output_type": "execute_result"
    }
   ],
   "source": [
    "paths, levels = get_embedding_paths(sub_dirs = ['data/ivy/Ivy'], levels = ['class', 'method'])\n",
    "paths"
   ]
  },
  {
   "cell_type": "markdown",
   "metadata": {},
   "source": [
    "---\n",
    "\n",
    "### Brief analysis"
   ]
  },
  {
   "cell_type": "code",
   "execution_count": null,
   "metadata": {},
   "outputs": [],
   "source": [
    "from _collections_abc import Iterable\n",
    "import json\n",
    "\n",
    "import gudhi\n",
    "import numpy as np\n",
    "import matplotlib.pyplot as plt"
   ]
  },
  {
   "cell_type": "code",
   "execution_count": 36,
   "metadata": {},
   "outputs": [],
   "source": [
    "def paths_to_data(paths:Iterable[str]):\n",
    "    data = {'embeds':list(), 'names':list(), 'spans':list(), 'paths':list()}\n",
    "    for path in paths:\n",
    "        file = json.load(open(path, 'r'))\n",
    "        data['embeds'].append(file[0][0]) # Embedding\n",
    "        data['names'].append(file[1]) # Identifier or token name\n",
    "        data['spans'].append(file[2]) # Start and end indices in source code\n",
    "        data['paths'].append(path) # Path to file\n",
    "    return data"
   ]
  },
  {
   "cell_type": "code",
   "execution_count": 37,
   "metadata": {},
   "outputs": [],
   "source": [
    "data = paths_to_data(paths)\n",
    "data['levels'] = levels"
   ]
  },
  {
   "cell_type": "code",
   "execution_count": 63,
   "metadata": {},
   "outputs": [
    {
     "data": {
      "image/png": "[encoded data removed]",
      "text/plain": [
       "<Figure size 640x480 with 1 Axes>"
      ]
     },
     "metadata": {},
     "output_type": "display_data"
    }
   ],
   "source": [
    "rips = gudhi.RipsComplex(points=data['embeds']) # Vietoris-Rips complex\n",
    "tree = rips.create_simplex_tree(max_dimension=2)\n",
    "\n",
    "# Plot persistence diagram\n",
    "barcode = tree.persistence()\n",
    "gudhi.plot_persistence_diagram(barcode)\n",
    "plt.title('Persistence Diagram of the Rips Complex')\n",
    "plt.show()"
   ]
  },
  {
   "cell_type": "code",
   "execution_count": 64,
   "metadata": {},
   "outputs": [
    {
     "data": {
      "image/png": "[encoded data removed]",
      "text/plain": [
       "<Figure size 640x480 with 1 Axes>"
      ]
     },
     "metadata": {},
     "output_type": "display_data"
    }
   ],
   "source": [
    "# Plot barcode\n",
    "gudhi.plot_persistence_barcode(barcode)\n",
    "plt.show()"
   ]
  },
  {
   "cell_type": "code",
   "execution_count": 56,
   "metadata": {},
   "outputs": [],
   "source": [
    "def GetBettiCurvesFromPointCloud(X, J, dim=3):\n",
    "    '''\n",
    "    Computes the Betti curves of the Rips complex on the point cloud X, \n",
    "    on the interval J, up to dimension dim.\n",
    "\n",
    "    Input:\n",
    "        X (np.array): size Nx2, the point cloud.\n",
    "        J (np.array): interval. Shape 1xM. \n",
    "        dim (int, optional): maximal dimension to compute the Betti curves. \n",
    "    \n",
    "    Output:\n",
    "        BettiCurves (np.array): the Betti curves. Shape (dim+1)xM. The ith \n",
    "                                Betti curve is given by BettiCurve[i,:].  \n",
    "                                \n",
    "    Example:\n",
    "        X = np.asarray([[0,1],[1,0],[-1,1]])\n",
    "        J = np.linspace(0,1,100)\n",
    "        GetBettiCurvesFromPointCloud(X, J, dim = 2)\n",
    "    '''\n",
    "    I = 2*J\n",
    "    tmax = max(I)\n",
    "    rips = gudhi.RipsComplex(points=X, max_edge_length = tmax)\n",
    "    st = rips.create_simplex_tree(max_dimension=dim)\n",
    "    st.persistence(persistence_dim_max=True, homology_coeff_field = 2)\n",
    "    Diagrams = [st.persistence_intervals_in_dimension(i) for i in range(dim+1)]\n",
    "    BettiCurves = []\n",
    "    step_x = I[1]-I[0]\n",
    "    for diagram in Diagrams:\n",
    "        bc =  np.zeros(len(I))\n",
    "        if diagram.size != 0:\n",
    "            diagram_int = np.clip(np.ceil((diagram[:,:2] - I[0]) / step_x), 0, len(I)).astype(int)\n",
    "            for interval in diagram_int:\n",
    "                bc[interval[0]:interval[1]] += 1\n",
    "        BettiCurves.append(np.reshape(bc,[1,-1]))\n",
    "    return np.reshape(BettiCurves, (dim+1, len(I)))"
   ]
  },
  {
   "cell_type": "code",
   "execution_count": 61,
   "metadata": {},
   "outputs": [
    {
     "data": {
      "image/png": "[encoded data removed]",
      "text/plain": [
       "<Figure size 640x480 with 1 Axes>"
      ]
     },
     "metadata": {},
     "output_type": "display_data"
    },
    {
     "data": {
      "image/png": "[encoded data removed]",
      "text/plain": [
       "<Figure size 640x480 with 1 Axes>"
      ]
     },
     "metadata": {},
     "output_type": "display_data"
    }
   ],
   "source": [
    "J = np.linspace(0,30,100)\n",
    "dim = 2\n",
    "betti_curves = GetBettiCurvesFromPointCloud(data['embeds'], J, dim=dim)\n",
    "\n",
    "for d in range(dim):\n",
    "    plt.figure()\n",
    "    plt.step(J, betti_curves[d])\n",
    "    plt.ylim(0, max(betti_curves[d])+1)\n",
    "    plt.grid()\n",
    "    plt.title(f'{d}-Betti curve')\n",
    "    plt.show()"
   ]
  },
  {
   "cell_type": "markdown",
   "metadata": {},
   "source": [
    "---\n",
    "\n",
    "### Visualization using MDS and Plotly"
   ]
  },
  {
   "cell_type": "code",
   "execution_count": 99,
   "metadata": {},
   "outputs": [],
   "source": [
    "from sklearn.metrics import pairwise_distances\n",
    "from sklearn.manifold import MDS\n",
    "import plotly.graph_objects as go\n",
    "import plotly.express as px"
   ]
  },
  {
   "cell_type": "code",
   "execution_count": 112,
   "metadata": {},
   "outputs": [
    {
     "data": {
      "application/vnd.plotly.v1+json": {
       "config": {
        "plotlyServerURL": "https://plot.ly"
       },
       "data": [
        {
         "marker": {
          "color": [
           0,
           0.20202020202020202,
           0.40404040404040403,
           0.6060606060606061,
           0.8080808080808081,
           1.0101010101010102,
           1.2121212121212122,
           1.4141414141414141,
           1.6161616161616161,
           1.8181818181818181,
           2.0202020202020203,
           2.2222222222222223,
           2.4242424242424243,
           2.6262626262626263,
           2.8282828282828283,
           3.0303030303030303,
           3.2323232323232323,
           3.4343434343434343,
           3.6363636363636362,
           3.8383838383838382,
           4.040404040404041,
           4.242424242424242,
           4.444444444444445,
           4.646464646464646,
           4.848484848484849,
           5.05050505050505,
           5.252525252525253,
           5.454545454545454,
           5.656565656565657,
           5.858585858585858,
           6.0606060606060606,
           6.262626262626262,
           6.4646464646464645,
           6.666666666666667,
           6.8686868686868685,
           7.070707070707071,
           7.2727272727272725,
           7.474747474747475,
           7.6767676767676765,
           7.878787878787879,
           8.080808080808081,
           8.282828282828282,
           8.484848484848484,
           8.686868686868687,
           8.88888888888889,
           9.09090909090909,
           9.292929292929292,
           9.494949494949495,
           9.696969696969697,
           9.8989898989899,
           10.1010101010101,
           10.303030303030303,
           10.505050505050505,
           10.707070707070708,
           10.909090909090908,
           11.11111111111111,
           11.313131313131313,
           11.515151515151516,
           11.717171717171716,
           11.919191919191919,
           12.121212121212121,
           12.323232323232324,
           12.525252525252524,
           12.727272727272727,
           12.929292929292929,
           13.131313131313131,
           13.333333333333334,
           13.535353535353535,
           13.737373737373737,
           13.93939393939394,
           14.141414141414142,
           14.343434343434343,
           14.545454545454545,
           14.747474747474747,
           14.94949494949495,
           15.15151515151515,
           15.353535353535353,
           15.555555555555555,
           15.757575757575758,
           15.959595959595958,
           16.161616161616163,
           16.363636363636363,
           16.565656565656564,
           16.767676767676768,
           16.96969696969697,
           17.171717171717173,
           17.373737373737374,
           17.575757575757574,
           17.77777777777778,
           17.97979797979798,
           18.18181818181818,
           18.383838383838384,
           18.585858585858585,
           18.78787878787879,
           18.98989898989899,
           19.19191919191919,
           19.393939393939394,
           19.595959595959595,
           19.7979797979798,
           20
          ],
          "opacity": 0.7,
          "size": 5
         },
         "mode": "markers",
         "type": "scatter3d",
         "x": [
          -16.481477875841936,
          -26.886247069563886,
          0.6952418513124113,
          -28.684739654760342,
          -10.763717438141454,
          -42.491698894365,
          -22.42459258104876,
          -22.877034553332372,
          -26.872290543058334,
          -26.560361446645867,
          9.192011838668229,
          10.02156787161701,
          9.041691263096617,
          -5.7335070310741,
          -15.531637534302762,
          1.9601074662026448,
          13.606343404804631,
          28.26802959541072,
          -4.141488161523266,
          28.122463492371132,
          -5.60866933143581,
          10.279920282501514,
          1.0672883860554023,
          13.41559383056503,
          20.377080705386668,
          21.079998973403043,
          26.35206338539007,
          19.132093775867162,
          21.05189883885183,
          10.362484070141756,
          -0.6218940301623667,
          20.68284369978787,
          -31.853691844515783,
          -25.276807223213968,
          7.413537010125099,
          -20.726698148337743,
          -17.09129456298883,
          -31.89388693840927,
          -7.405804622205954,
          -5.618189997854166,
          -11.615589675977835,
          -9.694373539751629,
          -7.755138967182046,
          -12.372345508287031,
          0.35552670989925206,
          -4.899179083453576,
          1.483733685465008,
          -3.306490975715329,
          -8.287487523746421,
          -26.44462993484753,
          24.41790550450376,
          10.604420883734994,
          -24.657960960484207,
          -8.032920351506908,
          0.7856818177778736,
          -7.387364530282141,
          -6.614404961483313,
          -6.876641309250958,
          -7.722785937179133,
          -1.2296768025543237,
          -4.739689264894699,
          20.410575783716215,
          34.66865272733952,
          -2.3937311924276443,
          34.48205703585864,
          28.377205509841065,
          28.849073133288087,
          28.65706792583286,
          32.26142828953296,
          16.6773117327863,
          9.14441889428715,
          27.284599303953218,
          -24.587620525582253,
          12.532198501931788,
          23.137246392863787,
          -32.08760304678237
         ],
         "y": [
          -22.45671306583965,
          -11.187435416037601,
          -3.841806352968166,
          6.434196510892577,
          -3.2331327076064014,
          -15.132191566624659,
          7.091354604940747,
          8.240045822763902,
          6.027386072758814,
          6.947287755375385,
          1.4798550020097885,
          4.485750057902571,
          0.8938561929843506,
          -18.455871901511646,
          -11.421201966678987,
          29.748545079673722,
          -15.752444396999314,
          -12.050676107244689,
          -23.544897434126312,
          2.729339375513301,
          -34.00647867694276,
          -24.433657604271133,
          -34.74398252528947,
          -24.92373564403478,
          -18.426871811512402,
          -4.671069333501579,
          16.21720347284607,
          2.4105011162163397,
          -8.609689495628013,
          0.39145970808172065,
          -25.393461548640218,
          10.67111203001434,
          8.2157266051219,
          29.81239717839515,
          21.57330900189837,
          -16.796174863863733,
          -34.9261919461265,
          -22.92657282817446,
          20.18883542459232,
          29.05965524113111,
          25.24305455988013,
          25.087436099832175,
          9.260736978364768,
          13.268965104451391,
          32.36943191889396,
          26.14651393797368,
          21.929687801405738,
          -24.89792977125534,
          -31.065097225545912,
          -17.044393638884998,
          -5.917367308407057,
          24.220575423978566,
          -17.03277385579988,
          4.025396307779224,
          21.119932153169334,
          8.010495990923841,
          5.784729970750325,
          17.270421366850865,
          3.9955402411366654,
          14.249344196421621,
          26.46817996250711,
          -17.714585099857665,
          -12.32474769648533,
          -23.14292965918131,
          3.776548192617129,
          -20.659133446837167,
          -4.396735784431665,
          5.341459775106965,
          -8.459347984389463,
          4.539255133145229,
          -30.520372909493915,
          14.526345471465758,
          -1.3292549532467606,
          35.57625581031136,
          28.42442103060999,
          18.18638284675066
         ],
         "z": [
          10.555711245024574,
          -30.413156238568984,
          -4.319032416377224,
          24.06621666023936,
          9.606696637545289,
          -9.501197091599213,
          -5.817766508449401,
          -3.558236532872323,
          -2.5654431003982556,
          0.17598396100248934,
          32.578334084167835,
          26.76439019228135,
          23.281017805728588,
          34.21266411039127,
          14.194531525184875,
          10.912276471860446,
          -21.6130080725094,
          5.886432245606481,
          -28.517560569517876,
          -5.467993455363228,
          8.447154051475515,
          27.262789155842295,
          6.831001339694703,
          -15.532485287407694,
          -8.497761028823989,
          -21.612735058658558,
          19.920747927983477,
          3.4092994729778114,
          -6.778874864691205,
          -24.627100254888454,
          13.00011127081352,
          -16.558734105938516,
          -20.16110263129117,
          14.99225913579146,
          19.122827858932585,
          -11.71165333200861,
          -7.768631614251423,
          -16.33845458082338,
          -23.51961696366865,
          -4.279953670486941,
          -18.15555444077937,
          -5.910736185260193,
          -35.91062164356554,
          -34.19234302811352,
          -15.00535699937551,
          -13.623257807380998,
          -30.371415348943568,
          24.78621156589164,
          25.165790936063882,
          13.527668337959474,
          29.437227045408175,
          10.670785910756566,
          27.219418375843862,
          19.725443972698617,
          16.082748104601666,
          20.743907909994736,
          29.996129691677506,
          10.620498580315912,
          20.83654908511297,
          4.019060068084496,
          18.367948732218046,
          -23.96315698619042,
          5.6285842797316326,
          -32.746416690605145,
          -4.324638059338644,
          -8.750883574641296,
          -22.796199076407163,
          8.076500235557136,
          -6.651662590323274,
          -30.19356266424777,
          18.67555509981139,
          -17.91304194424037,
          -13.39259777724712,
          -5.942465554894996,
          1.9406882927844689,
          -1.7367536269067199
         ]
        }
       ],
       "layout": {
        "margin": {
         "b": 0,
         "l": 0,
         "r": 0,
         "t": 0
        },
        "template": {
         "data": {
          "bar": [
           {
            "error_x": {
             "color": "#2a3f5f"
            },
            "error_y": {
             "color": "#2a3f5f"
            },
            "marker": {
             "line": {
              "color": "#E5ECF6",
              "width": 0.5
             },
             "pattern": {
              "fillmode": "overlay",
              "size": 10,
              "solidity": 0.2
             }
            },
            "type": "bar"
           }
          ],
          "barpolar": [
           {
            "marker": {
             "line": {
              "color": "#E5ECF6",
              "width": 0.5
             },
             "pattern": {
              "fillmode": "overlay",
              "size": 10,
              "solidity": 0.2
             }
            },
            "type": "barpolar"
           }
          ],
          "carpet": [
           {
            "aaxis": {
             "endlinecolor": "#2a3f5f",
             "gridcolor": "white",
             "linecolor": "white",
             "minorgridcolor": "white",
             "startlinecolor": "#2a3f5f"
            },
            "baxis": {
             "endlinecolor": "#2a3f5f",
             "gridcolor": "white",
             "linecolor": "white",
             "minorgridcolor": "white",
             "startlinecolor": "#2a3f5f"
            },
            "type": "carpet"
           }
          ],
          "choropleth": [
           {
            "colorbar": {
             "outlinewidth": 0,
             "ticks": ""
            },
            "type": "choropleth"
           }
          ],
          "contour": [
           {
            "colorbar": {
             "outlinewidth": 0,
             "ticks": ""
            },
            "colorscale": [
             [
              0,
              "#0d0887"
             ],
             [
              0.1111111111111111,
              "#46039f"
             ],
             [
              0.2222222222222222,
              "#7201a8"
             ],
             [
              0.3333333333333333,
              "#9c179e"
             ],
             [
              0.4444444444444444,
              "#bd3786"
             ],
             [
              0.5555555555555556,
              "#d8576b"
             ],
             [
              0.6666666666666666,
              "#ed7953"
             ],
             [
              0.7777777777777778,
              "#fb9f3a"
             ],
             [
              0.8888888888888888,
              "#fdca26"
             ],
             [
              1,
              "#f0f921"
             ]
            ],
            "type": "contour"
           }
          ],
          "contourcarpet": [
           {
            "colorbar": {
             "outlinewidth": 0,
             "ticks": ""
            },
            "type": "contourcarpet"
           }
          ],
          "heatmap": [
           {
            "colorbar": {
             "outlinewidth": 0,
             "ticks": ""
            },
            "colorscale": [
             [
              0,
              "#0d0887"
             ],
             [
              0.1111111111111111,
              "#46039f"
             ],
             [
              0.2222222222222222,
              "#7201a8"
             ],
             [
              0.3333333333333333,
              "#9c179e"
             ],
             [
              0.4444444444444444,
              "#bd3786"
             ],
             [
              0.5555555555555556,
              "#d8576b"
             ],
             [
              0.6666666666666666,
              "#ed7953"
             ],
             [
              0.7777777777777778,
              "#fb9f3a"
             ],
             [
              0.8888888888888888,
              "#fdca26"
             ],
             [
              1,
              "#f0f921"
             ]
            ],
            "type": "heatmap"
           }
          ],
          "heatmapgl": [
           {
            "colorbar": {
             "outlinewidth": 0,
             "ticks": ""
            },
            "colorscale": [
             [
              0,
              "#0d0887"
             ],
             [
              0.1111111111111111,
              "#46039f"
             ],
             [
              0.2222222222222222,
              "#7201a8"
             ],
             [
              0.3333333333333333,
              "#9c179e"
             ],
             [
              0.4444444444444444,
              "#bd3786"
             ],
             [
              0.5555555555555556,
              "#d8576b"
             ],
             [
              0.6666666666666666,
              "#ed7953"
             ],
             [
              0.7777777777777778,
              "#fb9f3a"
             ],
             [
              0.8888888888888888,
              "#fdca26"
             ],
             [
              1,
              "#f0f921"
             ]
            ],
            "type": "heatmapgl"
           }
          ],
          "histogram": [
           {
            "marker": {
             "pattern": {
              "fillmode": "overlay",
              "size": 10,
              "solidity": 0.2
             }
            },
            "type": "histogram"
           }
          ],
          "histogram2d": [
           {
            "colorbar": {
             "outlinewidth": 0,
             "ticks": ""
            },
            "colorscale": [
             [
              0,
              "#0d0887"
             ],
             [
              0.1111111111111111,
              "#46039f"
             ],
             [
              0.2222222222222222,
              "#7201a8"
             ],
             [
              0.3333333333333333,
              "#9c179e"
             ],
             [
              0.4444444444444444,
              "#bd3786"
             ],
             [
              0.5555555555555556,
              "#d8576b"
             ],
             [
              0.6666666666666666,
              "#ed7953"
             ],
             [
              0.7777777777777778,
              "#fb9f3a"
             ],
             [
              0.8888888888888888,
              "#fdca26"
             ],
             [
              1,
              "#f0f921"
             ]
            ],
            "type": "histogram2d"
           }
          ],
          "histogram2dcontour": [
           {
            "colorbar": {
             "outlinewidth": 0,
             "ticks": ""
            },
            "colorscale": [
             [
              0,
              "#0d0887"
             ],
             [
              0.1111111111111111,
              "#46039f"
             ],
             [
              0.2222222222222222,
              "#7201a8"
             ],
             [
              0.3333333333333333,
              "#9c179e"
             ],
             [
              0.4444444444444444,
              "#bd3786"
             ],
             [
              0.5555555555555556,
              "#d8576b"
             ],
             [
              0.6666666666666666,
              "#ed7953"
             ],
             [
              0.7777777777777778,
              "#fb9f3a"
             ],
             [
              0.8888888888888888,
              "#fdca26"
             ],
             [
              1,
              "#f0f921"
             ]
            ],
            "type": "histogram2dcontour"
           }
          ],
          "mesh3d": [
           {
            "colorbar": {
             "outlinewidth": 0,
             "ticks": ""
            },
            "type": "mesh3d"
           }
          ],
          "parcoords": [
           {
            "line": {
             "colorbar": {
              "outlinewidth": 0,
              "ticks": ""
             }
            },
            "type": "parcoords"
           }
          ],
          "pie": [
           {
            "automargin": true,
            "type": "pie"
           }
          ],
          "scatter": [
           {
            "fillpattern": {
             "fillmode": "overlay",
             "size": 10,
             "solidity": 0.2
            },
            "type": "scatter"
           }
          ],
          "scatter3d": [
           {
            "line": {
             "colorbar": {
              "outlinewidth": 0,
              "ticks": ""
             }
            },
            "marker": {
             "colorbar": {
              "outlinewidth": 0,
              "ticks": ""
             }
            },
            "type": "scatter3d"
           }
          ],
          "scattercarpet": [
           {
            "marker": {
             "colorbar": {
              "outlinewidth": 0,
              "ticks": ""
             }
            },
            "type": "scattercarpet"
           }
          ],
          "scattergeo": [
           {
            "marker": {
             "colorbar": {
              "outlinewidth": 0,
              "ticks": ""
             }
            },
            "type": "scattergeo"
           }
          ],
          "scattergl": [
           {
            "marker": {
             "colorbar": {
              "outlinewidth": 0,
              "ticks": ""
             }
            },
            "type": "scattergl"
           }
          ],
          "scattermapbox": [
           {
            "marker": {
             "colorbar": {
              "outlinewidth": 0,
              "ticks": ""
             }
            },
            "type": "scattermapbox"
           }
          ],
          "scatterpolar": [
           {
            "marker": {
             "colorbar": {
              "outlinewidth": 0,
              "ticks": ""
             }
            },
            "type": "scatterpolar"
           }
          ],
          "scatterpolargl": [
           {
            "marker": {
             "colorbar": {
              "outlinewidth": 0,
              "ticks": ""
             }
            },
            "type": "scatterpolargl"
           }
          ],
          "scatterternary": [
           {
            "marker": {
             "colorbar": {
              "outlinewidth": 0,
              "ticks": ""
             }
            },
            "type": "scatterternary"
           }
          ],
          "surface": [
           {
            "colorbar": {
             "outlinewidth": 0,
             "ticks": ""
            },
            "colorscale": [
             [
              0,
              "#0d0887"
             ],
             [
              0.1111111111111111,
              "#46039f"
             ],
             [
              0.2222222222222222,
              "#7201a8"
             ],
             [
              0.3333333333333333,
              "#9c179e"
             ],
             [
              0.4444444444444444,
              "#bd3786"
             ],
             [
              0.5555555555555556,
              "#d8576b"
             ],
             [
              0.6666666666666666,
              "#ed7953"
             ],
             [
              0.7777777777777778,
              "#fb9f3a"
             ],
             [
              0.8888888888888888,
              "#fdca26"
             ],
             [
              1,
              "#f0f921"
             ]
            ],
            "type": "surface"
           }
          ],
          "table": [
           {
            "cells": {
             "fill": {
              "color": "#EBF0F8"
             },
             "line": {
              "color": "white"
             }
            },
            "header": {
             "fill": {
              "color": "#C8D4E3"
             },
             "line": {
              "color": "white"
             }
            },
            "type": "table"
           }
          ]
         },
         "layout": {
          "annotationdefaults": {
           "arrowcolor": "#2a3f5f",
           "arrowhead": 0,
           "arrowwidth": 1
          },
          "autotypenumbers": "strict",
          "coloraxis": {
           "colorbar": {
            "outlinewidth": 0,
            "ticks": ""
           }
          },
          "colorscale": {
           "diverging": [
            [
             0,
             "#8e0152"
            ],
            [
             0.1,
             "#c51b7d"
            ],
            [
             0.2,
             "#de77ae"
            ],
            [
             0.3,
             "#f1b6da"
            ],
            [
             0.4,
             "#fde0ef"
            ],
            [
             0.5,
             "#f7f7f7"
            ],
            [
             0.6,
             "#e6f5d0"
            ],
            [
             0.7,
             "#b8e186"
            ],
            [
             0.8,
             "#7fbc41"
            ],
            [
             0.9,
             "#4d9221"
            ],
            [
             1,
             "#276419"
            ]
           ],
           "sequential": [
            [
             0,
             "#0d0887"
            ],
            [
             0.1111111111111111,
             "#46039f"
            ],
            [
             0.2222222222222222,
             "#7201a8"
            ],
            [
             0.3333333333333333,
             "#9c179e"
            ],
            [
             0.4444444444444444,
             "#bd3786"
            ],
            [
             0.5555555555555556,
             "#d8576b"
            ],
            [
             0.6666666666666666,
             "#ed7953"
            ],
            [
             0.7777777777777778,
             "#fb9f3a"
            ],
            [
             0.8888888888888888,
             "#fdca26"
            ],
            [
             1,
             "#f0f921"
            ]
           ],
           "sequentialminus": [
            [
             0,
             "#0d0887"
            ],
            [
             0.1111111111111111,
             "#46039f"
            ],
            [
             0.2222222222222222,
             "#7201a8"
            ],
            [
             0.3333333333333333,
             "#9c179e"
            ],
            [
             0.4444444444444444,
             "#bd3786"
            ],
            [
             0.5555555555555556,
             "#d8576b"
            ],
            [
             0.6666666666666666,
             "#ed7953"
            ],
            [
             0.7777777777777778,
             "#fb9f3a"
            ],
            [
             0.8888888888888888,
             "#fdca26"
            ],
            [
             1,
             "#f0f921"
            ]
           ]
          },
          "colorway": [
           "#636efa",
           "#EF553B",
           "#00cc96",
           "#ab63fa",
           "#FFA15A",
           "#19d3f3",
           "#FF6692",
           "#B6E880",
           "#FF97FF",
           "#FECB52"
          ],
          "font": {
           "color": "#2a3f5f"
          },
          "geo": {
           "bgcolor": "white",
           "lakecolor": "white",
           "landcolor": "#E5ECF6",
           "showlakes": true,
           "showland": true,
           "subunitcolor": "white"
          },
          "hoverlabel": {
           "align": "left"
          },
          "hovermode": "closest",
          "mapbox": {
           "style": "light"
          },
          "paper_bgcolor": "white",
          "plot_bgcolor": "#E5ECF6",
          "polar": {
           "angularaxis": {
            "gridcolor": "white",
            "linecolor": "white",
            "ticks": ""
           },
           "bgcolor": "#E5ECF6",
           "radialaxis": {
            "gridcolor": "white",
            "linecolor": "white",
            "ticks": ""
           }
          },
          "scene": {
           "xaxis": {
            "backgroundcolor": "#E5ECF6",
            "gridcolor": "white",
            "gridwidth": 2,
            "linecolor": "white",
            "showbackground": true,
            "ticks": "",
            "zerolinecolor": "white"
           },
           "yaxis": {
            "backgroundcolor": "#E5ECF6",
            "gridcolor": "white",
            "gridwidth": 2,
            "linecolor": "white",
            "showbackground": true,
            "ticks": "",
            "zerolinecolor": "white"
           },
           "zaxis": {
            "backgroundcolor": "#E5ECF6",
            "gridcolor": "white",
            "gridwidth": 2,
            "linecolor": "white",
            "showbackground": true,
            "ticks": "",
            "zerolinecolor": "white"
           }
          },
          "shapedefaults": {
           "line": {
            "color": "#2a3f5f"
           }
          },
          "ternary": {
           "aaxis": {
            "gridcolor": "white",
            "linecolor": "white",
            "ticks": ""
           },
           "baxis": {
            "gridcolor": "white",
            "linecolor": "white",
            "ticks": ""
           },
           "bgcolor": "#E5ECF6",
           "caxis": {
            "gridcolor": "white",
            "linecolor": "white",
            "ticks": ""
           }
          },
          "title": {
           "x": 0.05
          },
          "xaxis": {
           "automargin": true,
           "gridcolor": "white",
           "linecolor": "white",
           "ticks": "",
           "title": {
            "standoff": 15
           },
           "zerolinecolor": "white",
           "zerolinewidth": 2
          },
          "yaxis": {
           "automargin": true,
           "gridcolor": "white",
           "linecolor": "white",
           "ticks": "",
           "title": {
            "standoff": 15
           },
           "zerolinecolor": "white",
           "zerolinewidth": 2
          }
         }
        }
       }
      }
     },
     "metadata": {},
     "output_type": "display_data"
    }
   ],
   "source": [
    "# Show in R^3\n",
    "dists = pairwise_distances(data['embeds'])\n",
    "mds = MDS(n_components=3, max_iter=3000, eps=1e-9, dissimilarity=\"precomputed\", n_jobs=1) # Multidimensional scaling\n",
    "pos = mds.fit(dists).embedding_\n",
    "\n",
    "fig = go.Figure(data=[go.Scatter3d(x=pos[:,0], y=pos[:,1], z=pos[:,2],\n",
    "                                   mode='markers',\n",
    "                                   marker=dict(color=np.linspace(0, 20, 100),\n",
    "                                               size=5, opacity=0.7))])\n",
    "\n",
    "# Tight layout\n",
    "fig.update_layout(margin=dict(l=0, r=0, b=0, t=0))\n",
    "fig.show()"
   ]
  }
 ],
 "metadata": {
  "kernelspec": {
   "display_name": "csci420_05",
   "language": "python",
   "name": "python3"
  },
  "language_info": {
   "codemirror_mode": {
    "name": "ipython",
    "version": 3
   },
   "file_extension": ".py",
   "mimetype": "text/x-python",
   "name": "python",
   "nbconvert_exporter": "python",
   "pygments_lexer": "ipython3",
   "version": "3.12.7"
  }
 },
 "nbformat": 4,
 "nbformat_minor": 2
}
