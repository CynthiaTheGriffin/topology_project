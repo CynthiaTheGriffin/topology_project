{
 "cells": [
  {
   "cell_type": "markdown",
   "metadata": {},
   "source": [
    "## Analytical Engineering Test\n",
    "\n",
    "### Get embeddings by subdirectory and granularity level"
   ]
  },
  {
   "cell_type": "code",
   "execution_count": 1,
   "metadata": {},
   "outputs": [],
   "source": [
    "import glob\n",
    "import re"
   ]
  },
  {
   "cell_type": "code",
   "execution_count": 53,
   "metadata": {},
   "outputs": [
    {
     "data": {
      "text/plain": [
       "[(0, 2, 'class'), (8, 11, 'class'), (17, 20, 'method'), (27, 33, 'token')]"
      ]
     },
     "execution_count": 53,
     "metadata": {},
     "output_type": "execute_result"
    }
   ],
   "source": [
    "# Detect embedding type\n",
    "filename = 'c.Class1_c.Class2_m.Method1_token(0).json'\n",
    "filename = filename[:-5]\n",
    "nesting = []\n",
    "for m in re.finditer(r'(^|_)(c.|m.|token)', filename):\n",
    "    # match m.group():\n",
    "    #     case 'c.' | '_c.': level = 'class'\n",
    "    #     case 'm.' | '_m.': level = 'method'\n",
    "    #     case 'token' | '_token': level = 'token'\n",
    "    #     case _:\n",
    "    #         print(\"Something has gone wrong!\")\n",
    "    #         level = ''\n",
    "    if (m.group() == 'c.') or (m.group() == '_c.'): level = 'class'\n",
    "    elif (m.group() == 'm.') or (m.group() == '_m.'): level = 'method'\n",
    "    elif (m.group() == 'token') or (m.group() == '_token'): level = 'token'\n",
    "    else:\n",
    "        print(\"Something has gone wrong!\")\n",
    "        level = ''\n",
    "\n",
    "    nesting.append((m.start(), m.end(), level))\n",
    "nesting"
   ]
  },
  {
   "cell_type": "code",
   "execution_count": null,
   "metadata": {},
   "outputs": [
    {
     "name": "stdout",
     "output_type": "stream",
     "text": [
      "Class1\n",
      "Class2\n",
      "Method1\n",
      "token(0)\n"
     ]
    }
   ],
   "source": [
    "for i in range(1, len(nesting)):\n",
    "    cur = nesting[i]\n",
    "    prev = nesting[i-1]\n",
    "\n",
    "    # Get identifier name and/or duplicate number\n",
    "    print(filename[prev[1] : cur[0]])\n",
    "\n",
    "# Print the last level\n",
    "if cur[2] == 'token':\n",
    "    print('token' + filename[cur[1]:])\n",
    "else:\n",
    "    print(filename[cur[1]:])"
   ]
  },
  {
   "cell_type": "code",
   "execution_count": null,
   "metadata": {},
   "outputs": [],
   "source": [
    "def parse_json_filename(filename:str) -> tuple[str, list[tuple[str]]]:\n",
    "    '''\n",
    "    Parse JSON filesnames produced by CodeEmbeddingsGenerator.py\n",
    "    into the classes, methods, and tokens they are located in.\n",
    "\n",
    "    Args:\n",
    "        filename: JSON filename to parse.\n",
    "    \n",
    "    Returns:\n",
    "        level: Coding level of granularity (i.e., \"class\", \"method\", \"token\")\n",
    "        identifiers: An ordered list of the nested classes, methods, and/or token.\n",
    "    '''\n",
    "    f = filename[:-5]\n",
    "    nesting = []\n",
    "    for m in re.finditer(r'(^|_)(c\\.|m\\.|token)', f):\n",
    "        if (m.group() == 'c.') or (m.group() == '_c.'): level = 'class'\n",
    "        elif (m.group() == 'm.') or (m.group() == '_m.'): level = 'method'\n",
    "        elif (m.group() == 'token') or (m.group() == '_token'): level = 'token'\n",
    "        else:\n",
    "            print(\"Something has gone wrong!\")\n",
    "            level = ''\n",
    "\n",
    "        nesting.append((m.start(), m.end(), level))\n",
    "\n",
    "    identifiers = []\n",
    "    for i in range(1, len(nesting)):\n",
    "        end = nesting[i]\n",
    "        start = nesting[i-1]\n",
    "\n",
    "        # Get identifier name and duplicate number \n",
    "        # (or just duplicate number if its a token)\n",
    "        name = f[start[1] : end[0]]\n",
    "        identifiers.append((name, start[2])) # Store name and level\n",
    "\n",
    "    # Get last name and level\n",
    "    last = nesting[-1]\n",
    "    name = f[last[1]:] \n",
    "    identifiers.append((name, last[2]))\n",
    "\n",
    "    # Return embedding level and parsing results\n",
    "    return last[2], identifiers"
   ]
  },
  {
   "cell_type": "code",
   "execution_count": 28,
   "metadata": {},
   "outputs": [
    {
     "name": "stdout",
     "output_type": "stream",
     "text": [
      "('class', [('ClassA', 'class')])\n",
      "('class', [('ClassA', 'class'), ('ClassB', 'class')])\n",
      "('method', [('ClassA', 'class'), ('MethodA', 'method'), ('MethodB', 'method')])\n",
      "('token', [('ClassA', 'class'), ('', 'token')])\n",
      "('token', [('ClassA', 'class'), ('(0)', 'token')])\n"
     ]
    }
   ],
   "source": [
    "# Test\n",
    "print(parse_json_filename('c.ClassA.json'))\n",
    "print(parse_json_filename('c.ClassA_c.ClassB.json'))\n",
    "print(parse_json_filename('c.ClassA_m.MethodA_m.MethodB.json'))\n",
    "print(parse_json_filename('c.ClassA_token.json'))\n",
    "print(parse_json_filename('c.ClassA_token(0).json'))"
   ]
  },
  {
   "cell_type": "code",
   "execution_count": 3,
   "metadata": {},
   "outputs": [],
   "source": [
    "def get_embedding_paths(sub_dirs:list[str] = ['data'], \n",
    "                        levels:list[str] = ['class', 'method', 'token'],\n",
    "                        id_nestings:list[tuple[str]] = []\n",
    "                        ) -> tuple[list[str], list[str]]:\n",
    "    '''\n",
    "    Return file paths for JSON files created by CodeEmbeddingsGenerator.py.\n",
    "    Collects all JSON files in a data folder by default.\n",
    "\n",
    "    sub_dirs: Paths to subdirectories within the data folder to collect the JSON files from.\n",
    "    levels: Embedding levels to collect (i.e., \"class\", \"method\", \"token\").\n",
    "    id_nestings: Ordered lists of classes and/or methods that the code fragments associated with \n",
    "        the embeddings must be found in. The format must match that of the the 2nd output of \n",
    "        parse_json_filename().\n",
    "\n",
    "    Returns:\n",
    "        embed_paths: Paths to the JSON files.\n",
    "        embed_levels: Embedding levels associated with each path in embed_paths.\n",
    "    '''\n",
    "    for level in levels:\n",
    "        if level not in ('class', 'method', 'token'):\n",
    "            print(f'Warning: Invalid level name \"{level}\".')\n",
    "            \n",
    "    embed_paths = []\n",
    "    embed_levels = []\n",
    "    for dir in sub_dirs:\n",
    "        # Search through all JSON files\n",
    "        for path in glob.glob(dir + '/**/*.json', recursive=True):\n",
    "            filename = re.split(r'\\\\|/', path)[-1] # Get filename (and file extension)\n",
    "            level, identifiers = parse_json_filename(filename) # Get embedding level and the nesting\n",
    "            # Collect paths to embeddings of specified levels\n",
    "            if level in levels:\n",
    "                if len(id_nestings) == 0:\n",
    "                    embed_paths.append(path)\n",
    "                    embed_levels.append(level)\n",
    "                    continue\n",
    "                # Collect paths to embeddings that are nested in the specified classes and/or methods\n",
    "                for nesting in id_nestings:\n",
    "                    if nesting == identifiers[:len(nesting)]:\n",
    "                        embed_paths.append(path)\n",
    "                        embed_levels.append(level)\n",
    "                        break\n",
    "    return embed_paths, embed_levels"
   ]
  },
  {
   "cell_type": "code",
   "execution_count": null,
   "metadata": {},
   "outputs": [
    {
     "data": {
      "text/plain": [
       "['data/ivy/Ivy\\\\c.Ivy.json',\n",
       " 'data/ivy/Ivy\\\\c.Ivy_m.assertBound.json',\n",
       " 'data/ivy/Ivy\\\\c.Ivy_m.bind.json',\n",
       " 'data/ivy/Ivy\\\\c.Ivy_m.bind_m.transferProgress.json',\n",
       " 'data/ivy/Ivy\\\\c.Ivy_m.check.json',\n",
       " 'data/ivy/Ivy\\\\c.Ivy_m.checkInterrupted.json',\n",
       " 'data/ivy/Ivy\\\\c.Ivy_m.configure(0).json',\n",
       " 'data/ivy/Ivy\\\\c.Ivy_m.configure.json',\n",
       " 'data/ivy/Ivy\\\\c.Ivy_m.configureDefault.json',\n",
       " 'data/ivy/Ivy\\\\c.Ivy_m.configureDefault14.json',\n",
       " 'data/ivy/Ivy\\\\c.Ivy_m.deliver(0).json',\n",
       " 'data/ivy/Ivy\\\\c.Ivy_m.deliver(1).json',\n",
       " 'data/ivy/Ivy\\\\c.Ivy_m.deliver.json',\n",
       " 'data/ivy/Ivy\\\\c.Ivy_m.doInIvyContext.json',\n",
       " 'data/ivy/Ivy\\\\c.Ivy_m.execute.json',\n",
       " 'data/ivy/Ivy\\\\c.Ivy_m.findModule.json',\n",
       " 'data/ivy/Ivy\\\\c.Ivy_m.getCheckEngine.json',\n",
       " 'data/ivy/Ivy\\\\c.Ivy_m.getDeliverEngine.json',\n",
       " 'data/ivy/Ivy\\\\c.Ivy_m.getEventManager.json',\n",
       " 'data/ivy/Ivy\\\\c.Ivy_m.getInstallEngine.json',\n",
       " 'data/ivy/Ivy\\\\c.Ivy_m.getIvyDate.json',\n",
       " 'data/ivy/Ivy\\\\c.Ivy_m.getIvyHomeURL.json',\n",
       " 'data/ivy/Ivy\\\\c.Ivy_m.getIvyVersion.json',\n",
       " 'data/ivy/Ivy\\\\c.Ivy_m.getLoggerEngine.json',\n",
       " 'data/ivy/Ivy\\\\c.Ivy_m.getPublishEngine.json',\n",
       " 'data/ivy/Ivy\\\\c.Ivy_m.getRepositoryEngine.json',\n",
       " 'data/ivy/Ivy\\\\c.Ivy_m.getResolutionCacheManager.json',\n",
       " 'data/ivy/Ivy\\\\c.Ivy_m.getResolveEngine.json',\n",
       " 'data/ivy/Ivy\\\\c.Ivy_m.getRetrieveEngine.json',\n",
       " 'data/ivy/Ivy\\\\c.Ivy_m.getSearchEngine.json',\n",
       " 'data/ivy/Ivy\\\\c.Ivy_m.getSettings.json',\n",
       " 'data/ivy/Ivy\\\\c.Ivy_m.getSortEngine.json',\n",
       " 'data/ivy/Ivy\\\\c.Ivy_m.getVariable.json',\n",
       " 'data/ivy/Ivy\\\\c.Ivy_m.getWorkingRevision.json',\n",
       " 'data/ivy/Ivy\\\\c.Ivy_m.install.json',\n",
       " 'data/ivy/Ivy\\\\c.Ivy_m.interrupt(0).json',\n",
       " 'data/ivy/Ivy\\\\c.Ivy_m.interrupt.json',\n",
       " 'data/ivy/Ivy\\\\c.Ivy_m.isInterrupted.json',\n",
       " 'data/ivy/Ivy\\\\c.Ivy_m.listModuleEntries.json',\n",
       " 'data/ivy/Ivy\\\\c.Ivy_m.listModules(0).json',\n",
       " 'data/ivy/Ivy\\\\c.Ivy_m.listModules(1).json',\n",
       " 'data/ivy/Ivy\\\\c.Ivy_m.listModules.json',\n",
       " 'data/ivy/Ivy\\\\c.Ivy_m.listOrganisationEntries.json',\n",
       " 'data/ivy/Ivy\\\\c.Ivy_m.listOrganisations.json',\n",
       " 'data/ivy/Ivy\\\\c.Ivy_m.listRevisionEntries.json',\n",
       " 'data/ivy/Ivy\\\\c.Ivy_m.listRevisions.json',\n",
       " 'data/ivy/Ivy\\\\c.Ivy_m.listTokenValues.json',\n",
       " 'data/ivy/Ivy\\\\c.Ivy_m.newInstance(0).json',\n",
       " 'data/ivy/Ivy\\\\c.Ivy_m.newInstance.json',\n",
       " 'data/ivy/Ivy\\\\c.Ivy_m.popContext.json',\n",
       " 'data/ivy/Ivy\\\\c.Ivy_m.postConfigure.json',\n",
       " 'data/ivy/Ivy\\\\c.Ivy_m.publish.json',\n",
       " 'data/ivy/Ivy\\\\c.Ivy_m.pushContext.json',\n",
       " 'data/ivy/Ivy\\\\c.Ivy_m.resolve(0).json',\n",
       " 'data/ivy/Ivy\\\\c.Ivy_m.resolve(1).json',\n",
       " 'data/ivy/Ivy\\\\c.Ivy_m.resolve(2).json',\n",
       " 'data/ivy/Ivy\\\\c.Ivy_m.resolve(3).json',\n",
       " 'data/ivy/Ivy\\\\c.Ivy_m.resolve(4).json',\n",
       " 'data/ivy/Ivy\\\\c.Ivy_m.resolve.json',\n",
       " 'data/ivy/Ivy\\\\c.Ivy_m.retrieve(0).json',\n",
       " 'data/ivy/Ivy\\\\c.Ivy_m.retrieve.json',\n",
       " 'data/ivy/Ivy\\\\c.Ivy_m.setCheckEngine.json',\n",
       " 'data/ivy/Ivy\\\\c.Ivy_m.setDeliverEngine.json',\n",
       " 'data/ivy/Ivy\\\\c.Ivy_m.setEventManager.json',\n",
       " 'data/ivy/Ivy\\\\c.Ivy_m.setInstallEngine.json',\n",
       " 'data/ivy/Ivy\\\\c.Ivy_m.setPublishEngine.json',\n",
       " 'data/ivy/Ivy\\\\c.Ivy_m.setRepositoryEngine.json',\n",
       " 'data/ivy/Ivy\\\\c.Ivy_m.setResolveEngine.json',\n",
       " 'data/ivy/Ivy\\\\c.Ivy_m.setRetrieveEngine.json',\n",
       " 'data/ivy/Ivy\\\\c.Ivy_m.setSearchEngine.json',\n",
       " 'data/ivy/Ivy\\\\c.Ivy_m.setSettings.json',\n",
       " 'data/ivy/Ivy\\\\c.Ivy_m.setSortEngine.json',\n",
       " 'data/ivy/Ivy\\\\c.Ivy_m.setVariable.json',\n",
       " 'data/ivy/Ivy\\\\c.Ivy_m.sortModuleDescriptors.json',\n",
       " 'data/ivy/Ivy\\\\c.Ivy_m.sortNodes.json',\n",
       " 'data/ivy/Ivy\\\\c.Ivy_m.substitute.json',\n",
       " 'data/ivy/Main\\\\c.Main.json',\n",
       " 'data/ivy/Main\\\\c.Main_m.configureURLHandler.json',\n",
       " 'data/ivy/Main\\\\c.Main_m.error.json',\n",
       " 'data/ivy/Main\\\\c.Main_m.getExtraClasspathFileList.json',\n",
       " 'data/ivy/Main\\\\c.Main_m.getParser.json',\n",
       " 'data/ivy/Main\\\\c.Main_m.getSettingsURI.json',\n",
       " 'data/ivy/Main\\\\c.Main_m.initMessage.json',\n",
       " 'data/ivy/Main\\\\c.Main_m.initSettings.json',\n",
       " 'data/ivy/Main\\\\c.Main_m.invoke.json',\n",
       " 'data/ivy/Main\\\\c.Main_m.main.json',\n",
       " 'data/ivy/Main\\\\c.Main_m.outputCachePath.json',\n",
       " 'data/ivy/Main\\\\c.Main_m.run(0).json',\n",
       " 'data/ivy/Main\\\\c.Main_m.run(1).json',\n",
       " 'data/ivy/Main\\\\c.Main_m.run(2).json',\n",
       " 'data/ivy/Main\\\\c.Main_m.run.json',\n",
       " 'data/ivy/Main\\\\c.Main_m.usage.json']"
      ]
     },
     "execution_count": 157,
     "metadata": {},
     "output_type": "execute_result"
    }
   ],
   "source": [
    "# Classes and methods in Ivy.java and Main.java\n",
    "paths, levels = get_embedding_paths(sub_dirs = ['data/ivy/Ivy', 'data/ivy/Main'], levels = ['class', 'method'])\n",
    "paths"
   ]
  },
  {
   "cell_type": "code",
   "execution_count": null,
   "metadata": {},
   "outputs": [
    {
     "data": {
      "text/plain": [
       "['data/ivy/Ivy\\\\c.Ivy_m.bind.json',\n",
       " 'data/ivy/Ivy\\\\c.Ivy_m.bind_m.transferProgress.json',\n",
       " 'data/ivy/Ivy\\\\c.Ivy_m.bind_m.transferProgress_token(0).json',\n",
       " 'data/ivy/Ivy\\\\c.Ivy_m.bind_m.transferProgress_token(1).json',\n",
       " 'data/ivy/Ivy\\\\c.Ivy_m.bind_m.transferProgress_token(10).json',\n",
       " 'data/ivy/Ivy\\\\c.Ivy_m.bind_m.transferProgress_token(100).json',\n",
       " 'data/ivy/Ivy\\\\c.Ivy_m.bind_m.transferProgress_token(101).json',\n",
       " 'data/ivy/Ivy\\\\c.Ivy_m.bind_m.transferProgress_token(102).json',\n",
       " 'data/ivy/Ivy\\\\c.Ivy_m.bind_m.transferProgress_token(103).json',\n",
       " 'data/ivy/Ivy\\\\c.Ivy_m.bind_m.transferProgress_token(104).json',\n",
       " 'data/ivy/Ivy\\\\c.Ivy_m.bind_m.transferProgress_token(105).json',\n",
       " 'data/ivy/Ivy\\\\c.Ivy_m.bind_m.transferProgress_token(106).json',\n",
       " 'data/ivy/Ivy\\\\c.Ivy_m.bind_m.transferProgress_token(107).json',\n",
       " 'data/ivy/Ivy\\\\c.Ivy_m.bind_m.transferProgress_token(108).json',\n",
       " 'data/ivy/Ivy\\\\c.Ivy_m.bind_m.transferProgress_token(109).json',\n",
       " 'data/ivy/Ivy\\\\c.Ivy_m.bind_m.transferProgress_token(11).json',\n",
       " 'data/ivy/Ivy\\\\c.Ivy_m.bind_m.transferProgress_token(110).json',\n",
       " 'data/ivy/Ivy\\\\c.Ivy_m.bind_m.transferProgress_token(111).json',\n",
       " 'data/ivy/Ivy\\\\c.Ivy_m.bind_m.transferProgress_token(112).json',\n",
       " 'data/ivy/Ivy\\\\c.Ivy_m.bind_m.transferProgress_token(113).json',\n",
       " 'data/ivy/Ivy\\\\c.Ivy_m.bind_m.transferProgress_token(114).json',\n",
       " 'data/ivy/Ivy\\\\c.Ivy_m.bind_m.transferProgress_token(115).json',\n",
       " 'data/ivy/Ivy\\\\c.Ivy_m.bind_m.transferProgress_token(116).json',\n",
       " 'data/ivy/Ivy\\\\c.Ivy_m.bind_m.transferProgress_token(117).json',\n",
       " 'data/ivy/Ivy\\\\c.Ivy_m.bind_m.transferProgress_token(118).json',\n",
       " 'data/ivy/Ivy\\\\c.Ivy_m.bind_m.transferProgress_token(119).json',\n",
       " 'data/ivy/Ivy\\\\c.Ivy_m.bind_m.transferProgress_token(12).json',\n",
       " 'data/ivy/Ivy\\\\c.Ivy_m.bind_m.transferProgress_token(120).json',\n",
       " 'data/ivy/Ivy\\\\c.Ivy_m.bind_m.transferProgress_token(121).json',\n",
       " 'data/ivy/Ivy\\\\c.Ivy_m.bind_m.transferProgress_token(122).json',\n",
       " 'data/ivy/Ivy\\\\c.Ivy_m.bind_m.transferProgress_token(123).json',\n",
       " 'data/ivy/Ivy\\\\c.Ivy_m.bind_m.transferProgress_token(124).json',\n",
       " 'data/ivy/Ivy\\\\c.Ivy_m.bind_m.transferProgress_token(125).json',\n",
       " 'data/ivy/Ivy\\\\c.Ivy_m.bind_m.transferProgress_token(126).json',\n",
       " 'data/ivy/Ivy\\\\c.Ivy_m.bind_m.transferProgress_token(127).json',\n",
       " 'data/ivy/Ivy\\\\c.Ivy_m.bind_m.transferProgress_token(128).json',\n",
       " 'data/ivy/Ivy\\\\c.Ivy_m.bind_m.transferProgress_token(129).json',\n",
       " 'data/ivy/Ivy\\\\c.Ivy_m.bind_m.transferProgress_token(13).json',\n",
       " 'data/ivy/Ivy\\\\c.Ivy_m.bind_m.transferProgress_token(130).json',\n",
       " 'data/ivy/Ivy\\\\c.Ivy_m.bind_m.transferProgress_token(131).json',\n",
       " 'data/ivy/Ivy\\\\c.Ivy_m.bind_m.transferProgress_token(132).json',\n",
       " 'data/ivy/Ivy\\\\c.Ivy_m.bind_m.transferProgress_token(133).json',\n",
       " 'data/ivy/Ivy\\\\c.Ivy_m.bind_m.transferProgress_token(134).json',\n",
       " 'data/ivy/Ivy\\\\c.Ivy_m.bind_m.transferProgress_token(135).json',\n",
       " 'data/ivy/Ivy\\\\c.Ivy_m.bind_m.transferProgress_token(136).json',\n",
       " 'data/ivy/Ivy\\\\c.Ivy_m.bind_m.transferProgress_token(137).json',\n",
       " 'data/ivy/Ivy\\\\c.Ivy_m.bind_m.transferProgress_token(138).json',\n",
       " 'data/ivy/Ivy\\\\c.Ivy_m.bind_m.transferProgress_token(139).json',\n",
       " 'data/ivy/Ivy\\\\c.Ivy_m.bind_m.transferProgress_token(14).json',\n",
       " 'data/ivy/Ivy\\\\c.Ivy_m.bind_m.transferProgress_token(140).json',\n",
       " 'data/ivy/Ivy\\\\c.Ivy_m.bind_m.transferProgress_token(141).json',\n",
       " 'data/ivy/Ivy\\\\c.Ivy_m.bind_m.transferProgress_token(142).json',\n",
       " 'data/ivy/Ivy\\\\c.Ivy_m.bind_m.transferProgress_token(143).json',\n",
       " 'data/ivy/Ivy\\\\c.Ivy_m.bind_m.transferProgress_token(15).json',\n",
       " 'data/ivy/Ivy\\\\c.Ivy_m.bind_m.transferProgress_token(16).json',\n",
       " 'data/ivy/Ivy\\\\c.Ivy_m.bind_m.transferProgress_token(17).json',\n",
       " 'data/ivy/Ivy\\\\c.Ivy_m.bind_m.transferProgress_token(18).json',\n",
       " 'data/ivy/Ivy\\\\c.Ivy_m.bind_m.transferProgress_token(19).json',\n",
       " 'data/ivy/Ivy\\\\c.Ivy_m.bind_m.transferProgress_token(2).json',\n",
       " 'data/ivy/Ivy\\\\c.Ivy_m.bind_m.transferProgress_token(20).json',\n",
       " 'data/ivy/Ivy\\\\c.Ivy_m.bind_m.transferProgress_token(21).json',\n",
       " 'data/ivy/Ivy\\\\c.Ivy_m.bind_m.transferProgress_token(22).json',\n",
       " 'data/ivy/Ivy\\\\c.Ivy_m.bind_m.transferProgress_token(23).json',\n",
       " 'data/ivy/Ivy\\\\c.Ivy_m.bind_m.transferProgress_token(24).json',\n",
       " 'data/ivy/Ivy\\\\c.Ivy_m.bind_m.transferProgress_token(25).json',\n",
       " 'data/ivy/Ivy\\\\c.Ivy_m.bind_m.transferProgress_token(26).json',\n",
       " 'data/ivy/Ivy\\\\c.Ivy_m.bind_m.transferProgress_token(27).json',\n",
       " 'data/ivy/Ivy\\\\c.Ivy_m.bind_m.transferProgress_token(28).json',\n",
       " 'data/ivy/Ivy\\\\c.Ivy_m.bind_m.transferProgress_token(29).json',\n",
       " 'data/ivy/Ivy\\\\c.Ivy_m.bind_m.transferProgress_token(3).json',\n",
       " 'data/ivy/Ivy\\\\c.Ivy_m.bind_m.transferProgress_token(30).json',\n",
       " 'data/ivy/Ivy\\\\c.Ivy_m.bind_m.transferProgress_token(31).json',\n",
       " 'data/ivy/Ivy\\\\c.Ivy_m.bind_m.transferProgress_token(32).json',\n",
       " 'data/ivy/Ivy\\\\c.Ivy_m.bind_m.transferProgress_token(33).json',\n",
       " 'data/ivy/Ivy\\\\c.Ivy_m.bind_m.transferProgress_token(34).json',\n",
       " 'data/ivy/Ivy\\\\c.Ivy_m.bind_m.transferProgress_token(35).json',\n",
       " 'data/ivy/Ivy\\\\c.Ivy_m.bind_m.transferProgress_token(36).json',\n",
       " 'data/ivy/Ivy\\\\c.Ivy_m.bind_m.transferProgress_token(37).json',\n",
       " 'data/ivy/Ivy\\\\c.Ivy_m.bind_m.transferProgress_token(38).json',\n",
       " 'data/ivy/Ivy\\\\c.Ivy_m.bind_m.transferProgress_token(39).json',\n",
       " 'data/ivy/Ivy\\\\c.Ivy_m.bind_m.transferProgress_token(4).json',\n",
       " 'data/ivy/Ivy\\\\c.Ivy_m.bind_m.transferProgress_token(40).json',\n",
       " 'data/ivy/Ivy\\\\c.Ivy_m.bind_m.transferProgress_token(41).json',\n",
       " 'data/ivy/Ivy\\\\c.Ivy_m.bind_m.transferProgress_token(42).json',\n",
       " 'data/ivy/Ivy\\\\c.Ivy_m.bind_m.transferProgress_token(43).json',\n",
       " 'data/ivy/Ivy\\\\c.Ivy_m.bind_m.transferProgress_token(44).json',\n",
       " 'data/ivy/Ivy\\\\c.Ivy_m.bind_m.transferProgress_token(45).json',\n",
       " 'data/ivy/Ivy\\\\c.Ivy_m.bind_m.transferProgress_token(46).json',\n",
       " 'data/ivy/Ivy\\\\c.Ivy_m.bind_m.transferProgress_token(47).json',\n",
       " 'data/ivy/Ivy\\\\c.Ivy_m.bind_m.transferProgress_token(48).json',\n",
       " 'data/ivy/Ivy\\\\c.Ivy_m.bind_m.transferProgress_token(49).json',\n",
       " 'data/ivy/Ivy\\\\c.Ivy_m.bind_m.transferProgress_token(5).json',\n",
       " 'data/ivy/Ivy\\\\c.Ivy_m.bind_m.transferProgress_token(50).json',\n",
       " 'data/ivy/Ivy\\\\c.Ivy_m.bind_m.transferProgress_token(51).json',\n",
       " 'data/ivy/Ivy\\\\c.Ivy_m.bind_m.transferProgress_token(52).json',\n",
       " 'data/ivy/Ivy\\\\c.Ivy_m.bind_m.transferProgress_token(53).json',\n",
       " 'data/ivy/Ivy\\\\c.Ivy_m.bind_m.transferProgress_token(54).json',\n",
       " 'data/ivy/Ivy\\\\c.Ivy_m.bind_m.transferProgress_token(55).json',\n",
       " 'data/ivy/Ivy\\\\c.Ivy_m.bind_m.transferProgress_token(56).json',\n",
       " 'data/ivy/Ivy\\\\c.Ivy_m.bind_m.transferProgress_token(57).json',\n",
       " 'data/ivy/Ivy\\\\c.Ivy_m.bind_m.transferProgress_token(58).json',\n",
       " 'data/ivy/Ivy\\\\c.Ivy_m.bind_m.transferProgress_token(59).json',\n",
       " 'data/ivy/Ivy\\\\c.Ivy_m.bind_m.transferProgress_token(6).json',\n",
       " 'data/ivy/Ivy\\\\c.Ivy_m.bind_m.transferProgress_token(60).json',\n",
       " 'data/ivy/Ivy\\\\c.Ivy_m.bind_m.transferProgress_token(61).json',\n",
       " 'data/ivy/Ivy\\\\c.Ivy_m.bind_m.transferProgress_token(62).json',\n",
       " 'data/ivy/Ivy\\\\c.Ivy_m.bind_m.transferProgress_token(63).json',\n",
       " 'data/ivy/Ivy\\\\c.Ivy_m.bind_m.transferProgress_token(64).json',\n",
       " 'data/ivy/Ivy\\\\c.Ivy_m.bind_m.transferProgress_token(65).json',\n",
       " 'data/ivy/Ivy\\\\c.Ivy_m.bind_m.transferProgress_token(66).json',\n",
       " 'data/ivy/Ivy\\\\c.Ivy_m.bind_m.transferProgress_token(67).json',\n",
       " 'data/ivy/Ivy\\\\c.Ivy_m.bind_m.transferProgress_token(68).json',\n",
       " 'data/ivy/Ivy\\\\c.Ivy_m.bind_m.transferProgress_token(69).json',\n",
       " 'data/ivy/Ivy\\\\c.Ivy_m.bind_m.transferProgress_token(7).json',\n",
       " 'data/ivy/Ivy\\\\c.Ivy_m.bind_m.transferProgress_token(70).json',\n",
       " 'data/ivy/Ivy\\\\c.Ivy_m.bind_m.transferProgress_token(71).json',\n",
       " 'data/ivy/Ivy\\\\c.Ivy_m.bind_m.transferProgress_token(72).json',\n",
       " 'data/ivy/Ivy\\\\c.Ivy_m.bind_m.transferProgress_token(73).json',\n",
       " 'data/ivy/Ivy\\\\c.Ivy_m.bind_m.transferProgress_token(74).json',\n",
       " 'data/ivy/Ivy\\\\c.Ivy_m.bind_m.transferProgress_token(75).json',\n",
       " 'data/ivy/Ivy\\\\c.Ivy_m.bind_m.transferProgress_token(76).json',\n",
       " 'data/ivy/Ivy\\\\c.Ivy_m.bind_m.transferProgress_token(77).json',\n",
       " 'data/ivy/Ivy\\\\c.Ivy_m.bind_m.transferProgress_token(78).json',\n",
       " 'data/ivy/Ivy\\\\c.Ivy_m.bind_m.transferProgress_token(79).json',\n",
       " 'data/ivy/Ivy\\\\c.Ivy_m.bind_m.transferProgress_token(8).json',\n",
       " 'data/ivy/Ivy\\\\c.Ivy_m.bind_m.transferProgress_token(80).json',\n",
       " 'data/ivy/Ivy\\\\c.Ivy_m.bind_m.transferProgress_token(81).json',\n",
       " 'data/ivy/Ivy\\\\c.Ivy_m.bind_m.transferProgress_token(82).json',\n",
       " 'data/ivy/Ivy\\\\c.Ivy_m.bind_m.transferProgress_token(83).json',\n",
       " 'data/ivy/Ivy\\\\c.Ivy_m.bind_m.transferProgress_token(84).json',\n",
       " 'data/ivy/Ivy\\\\c.Ivy_m.bind_m.transferProgress_token(85).json',\n",
       " 'data/ivy/Ivy\\\\c.Ivy_m.bind_m.transferProgress_token(86).json',\n",
       " 'data/ivy/Ivy\\\\c.Ivy_m.bind_m.transferProgress_token(87).json',\n",
       " 'data/ivy/Ivy\\\\c.Ivy_m.bind_m.transferProgress_token(88).json',\n",
       " 'data/ivy/Ivy\\\\c.Ivy_m.bind_m.transferProgress_token(89).json',\n",
       " 'data/ivy/Ivy\\\\c.Ivy_m.bind_m.transferProgress_token(9).json',\n",
       " 'data/ivy/Ivy\\\\c.Ivy_m.bind_m.transferProgress_token(90).json',\n",
       " 'data/ivy/Ivy\\\\c.Ivy_m.bind_m.transferProgress_token(91).json',\n",
       " 'data/ivy/Ivy\\\\c.Ivy_m.bind_m.transferProgress_token(92).json',\n",
       " 'data/ivy/Ivy\\\\c.Ivy_m.bind_m.transferProgress_token(93).json',\n",
       " 'data/ivy/Ivy\\\\c.Ivy_m.bind_m.transferProgress_token(94).json',\n",
       " 'data/ivy/Ivy\\\\c.Ivy_m.bind_m.transferProgress_token(95).json',\n",
       " 'data/ivy/Ivy\\\\c.Ivy_m.bind_m.transferProgress_token(96).json',\n",
       " 'data/ivy/Ivy\\\\c.Ivy_m.bind_m.transferProgress_token(97).json',\n",
       " 'data/ivy/Ivy\\\\c.Ivy_m.bind_m.transferProgress_token(98).json',\n",
       " 'data/ivy/Ivy\\\\c.Ivy_m.bind_m.transferProgress_token(99).json',\n",
       " 'data/ivy/Ivy\\\\c.Ivy_m.bind_m.transferProgress_token.json',\n",
       " 'data/ivy/Ivy\\\\c.Ivy_m.bind_token(0).json',\n",
       " 'data/ivy/Ivy\\\\c.Ivy_m.bind_token(1).json',\n",
       " 'data/ivy/Ivy\\\\c.Ivy_m.bind_token(10).json',\n",
       " 'data/ivy/Ivy\\\\c.Ivy_m.bind_token(100).json',\n",
       " 'data/ivy/Ivy\\\\c.Ivy_m.bind_token(101).json',\n",
       " 'data/ivy/Ivy\\\\c.Ivy_m.bind_token(102).json',\n",
       " 'data/ivy/Ivy\\\\c.Ivy_m.bind_token(103).json',\n",
       " 'data/ivy/Ivy\\\\c.Ivy_m.bind_token(104).json',\n",
       " 'data/ivy/Ivy\\\\c.Ivy_m.bind_token(105).json',\n",
       " 'data/ivy/Ivy\\\\c.Ivy_m.bind_token(106).json',\n",
       " 'data/ivy/Ivy\\\\c.Ivy_m.bind_token(107).json',\n",
       " 'data/ivy/Ivy\\\\c.Ivy_m.bind_token(108).json',\n",
       " 'data/ivy/Ivy\\\\c.Ivy_m.bind_token(109).json',\n",
       " 'data/ivy/Ivy\\\\c.Ivy_m.bind_token(11).json',\n",
       " 'data/ivy/Ivy\\\\c.Ivy_m.bind_token(110).json',\n",
       " 'data/ivy/Ivy\\\\c.Ivy_m.bind_token(111).json',\n",
       " 'data/ivy/Ivy\\\\c.Ivy_m.bind_token(112).json',\n",
       " 'data/ivy/Ivy\\\\c.Ivy_m.bind_token(113).json',\n",
       " 'data/ivy/Ivy\\\\c.Ivy_m.bind_token(114).json',\n",
       " 'data/ivy/Ivy\\\\c.Ivy_m.bind_token(115).json',\n",
       " 'data/ivy/Ivy\\\\c.Ivy_m.bind_token(116).json',\n",
       " 'data/ivy/Ivy\\\\c.Ivy_m.bind_token(117).json',\n",
       " 'data/ivy/Ivy\\\\c.Ivy_m.bind_token(118).json',\n",
       " 'data/ivy/Ivy\\\\c.Ivy_m.bind_token(119).json',\n",
       " 'data/ivy/Ivy\\\\c.Ivy_m.bind_token(12).json',\n",
       " 'data/ivy/Ivy\\\\c.Ivy_m.bind_token(120).json',\n",
       " 'data/ivy/Ivy\\\\c.Ivy_m.bind_token(121).json',\n",
       " 'data/ivy/Ivy\\\\c.Ivy_m.bind_token(122).json',\n",
       " 'data/ivy/Ivy\\\\c.Ivy_m.bind_token(123).json',\n",
       " 'data/ivy/Ivy\\\\c.Ivy_m.bind_token(124).json',\n",
       " 'data/ivy/Ivy\\\\c.Ivy_m.bind_token(125).json',\n",
       " 'data/ivy/Ivy\\\\c.Ivy_m.bind_token(126).json',\n",
       " 'data/ivy/Ivy\\\\c.Ivy_m.bind_token(127).json',\n",
       " 'data/ivy/Ivy\\\\c.Ivy_m.bind_token(128).json',\n",
       " 'data/ivy/Ivy\\\\c.Ivy_m.bind_token(129).json',\n",
       " 'data/ivy/Ivy\\\\c.Ivy_m.bind_token(13).json',\n",
       " 'data/ivy/Ivy\\\\c.Ivy_m.bind_token(130).json',\n",
       " 'data/ivy/Ivy\\\\c.Ivy_m.bind_token(131).json',\n",
       " 'data/ivy/Ivy\\\\c.Ivy_m.bind_token(132).json',\n",
       " 'data/ivy/Ivy\\\\c.Ivy_m.bind_token(133).json',\n",
       " 'data/ivy/Ivy\\\\c.Ivy_m.bind_token(134).json',\n",
       " 'data/ivy/Ivy\\\\c.Ivy_m.bind_token(135).json',\n",
       " 'data/ivy/Ivy\\\\c.Ivy_m.bind_token(136).json',\n",
       " 'data/ivy/Ivy\\\\c.Ivy_m.bind_token(137).json',\n",
       " 'data/ivy/Ivy\\\\c.Ivy_m.bind_token(138).json',\n",
       " 'data/ivy/Ivy\\\\c.Ivy_m.bind_token(139).json',\n",
       " 'data/ivy/Ivy\\\\c.Ivy_m.bind_token(14).json',\n",
       " 'data/ivy/Ivy\\\\c.Ivy_m.bind_token(140).json',\n",
       " 'data/ivy/Ivy\\\\c.Ivy_m.bind_token(141).json',\n",
       " 'data/ivy/Ivy\\\\c.Ivy_m.bind_token(142).json',\n",
       " 'data/ivy/Ivy\\\\c.Ivy_m.bind_token(143).json',\n",
       " 'data/ivy/Ivy\\\\c.Ivy_m.bind_token(144).json',\n",
       " 'data/ivy/Ivy\\\\c.Ivy_m.bind_token(145).json']"
      ]
     },
     "execution_count": 148,
     "metadata": {},
     "output_type": "execute_result"
    }
   ],
   "source": [
    "# Methods and tokens in the bind method in the Ivy class from Ivy.java\n",
    "paths, levels = get_embedding_paths(sub_dirs = ['data/ivy/Ivy'], \n",
    "                                    levels = ['method', 'token'],\n",
    "                                    id_nestings = [[('Ivy','class'), ('bind','method')]]\n",
    "                                    )\n",
    "paths[:200]"
   ]
  },
  {
   "cell_type": "code",
   "execution_count": 152,
   "metadata": {},
   "outputs": [
    {
     "data": {
      "text/plain": [
       "['data/ivy/Ivy\\\\c.Ivy_m.deliver(0).json',\n",
       " 'data/ivy/Ivy\\\\c.Ivy_m.deliver(1).json',\n",
       " 'data/ivy/Ivy\\\\c.Ivy_m.deliver.json',\n",
       " 'data/ivy/Ivy\\\\c.Ivy_m.deliver_token(0).json',\n",
       " 'data/ivy/Ivy\\\\c.Ivy_m.deliver_token(1).json',\n",
       " 'data/ivy/Ivy\\\\c.Ivy_m.deliver_token(10).json',\n",
       " 'data/ivy/Ivy\\\\c.Ivy_m.deliver_token(100).json',\n",
       " 'data/ivy/Ivy\\\\c.Ivy_m.deliver_token(101).json',\n",
       " 'data/ivy/Ivy\\\\c.Ivy_m.deliver_token(102).json',\n",
       " 'data/ivy/Ivy\\\\c.Ivy_m.deliver_token(103).json',\n",
       " 'data/ivy/Ivy\\\\c.Ivy_m.deliver_token(104).json',\n",
       " 'data/ivy/Ivy\\\\c.Ivy_m.deliver_token(105).json',\n",
       " 'data/ivy/Ivy\\\\c.Ivy_m.deliver_token(106).json',\n",
       " 'data/ivy/Ivy\\\\c.Ivy_m.deliver_token(107).json',\n",
       " 'data/ivy/Ivy\\\\c.Ivy_m.deliver_token(108).json',\n",
       " 'data/ivy/Ivy\\\\c.Ivy_m.deliver_token(109).json',\n",
       " 'data/ivy/Ivy\\\\c.Ivy_m.deliver_token(11).json',\n",
       " 'data/ivy/Ivy\\\\c.Ivy_m.deliver_token(110).json',\n",
       " 'data/ivy/Ivy\\\\c.Ivy_m.deliver_token(111).json',\n",
       " 'data/ivy/Ivy\\\\c.Ivy_m.deliver_token(112).json',\n",
       " 'data/ivy/Ivy\\\\c.Ivy_m.deliver_token(113).json',\n",
       " 'data/ivy/Ivy\\\\c.Ivy_m.deliver_token(114).json',\n",
       " 'data/ivy/Ivy\\\\c.Ivy_m.deliver_token(115).json',\n",
       " 'data/ivy/Ivy\\\\c.Ivy_m.deliver_token(116).json',\n",
       " 'data/ivy/Ivy\\\\c.Ivy_m.deliver_token(117).json',\n",
       " 'data/ivy/Ivy\\\\c.Ivy_m.deliver_token(118).json',\n",
       " 'data/ivy/Ivy\\\\c.Ivy_m.deliver_token(119).json',\n",
       " 'data/ivy/Ivy\\\\c.Ivy_m.deliver_token(12).json',\n",
       " 'data/ivy/Ivy\\\\c.Ivy_m.deliver_token(120).json',\n",
       " 'data/ivy/Ivy\\\\c.Ivy_m.deliver_token(121).json',\n",
       " 'data/ivy/Ivy\\\\c.Ivy_m.deliver_token(122).json',\n",
       " 'data/ivy/Ivy\\\\c.Ivy_m.deliver_token(123).json',\n",
       " 'data/ivy/Ivy\\\\c.Ivy_m.deliver_token(124).json',\n",
       " 'data/ivy/Ivy\\\\c.Ivy_m.deliver_token(125).json',\n",
       " 'data/ivy/Ivy\\\\c.Ivy_m.deliver_token(126).json',\n",
       " 'data/ivy/Ivy\\\\c.Ivy_m.deliver_token(127).json',\n",
       " 'data/ivy/Ivy\\\\c.Ivy_m.deliver_token(128).json',\n",
       " 'data/ivy/Ivy\\\\c.Ivy_m.deliver_token(129).json',\n",
       " 'data/ivy/Ivy\\\\c.Ivy_m.deliver_token(13).json',\n",
       " 'data/ivy/Ivy\\\\c.Ivy_m.deliver_token(130).json',\n",
       " 'data/ivy/Ivy\\\\c.Ivy_m.deliver_token(131).json',\n",
       " 'data/ivy/Ivy\\\\c.Ivy_m.deliver_token(132).json',\n",
       " 'data/ivy/Ivy\\\\c.Ivy_m.deliver_token(133).json',\n",
       " 'data/ivy/Ivy\\\\c.Ivy_m.deliver_token(134).json',\n",
       " 'data/ivy/Ivy\\\\c.Ivy_m.deliver_token(135).json',\n",
       " 'data/ivy/Ivy\\\\c.Ivy_m.deliver_token(136).json',\n",
       " 'data/ivy/Ivy\\\\c.Ivy_m.deliver_token(137).json',\n",
       " 'data/ivy/Ivy\\\\c.Ivy_m.deliver_token(138).json',\n",
       " 'data/ivy/Ivy\\\\c.Ivy_m.deliver_token(139).json',\n",
       " 'data/ivy/Ivy\\\\c.Ivy_m.deliver_token(14).json',\n",
       " 'data/ivy/Ivy\\\\c.Ivy_m.deliver_token(140).json',\n",
       " 'data/ivy/Ivy\\\\c.Ivy_m.deliver_token(141).json',\n",
       " 'data/ivy/Ivy\\\\c.Ivy_m.deliver_token(142).json',\n",
       " 'data/ivy/Ivy\\\\c.Ivy_m.deliver_token(15).json',\n",
       " 'data/ivy/Ivy\\\\c.Ivy_m.deliver_token(16).json',\n",
       " 'data/ivy/Ivy\\\\c.Ivy_m.deliver_token(17).json',\n",
       " 'data/ivy/Ivy\\\\c.Ivy_m.deliver_token(18).json',\n",
       " 'data/ivy/Ivy\\\\c.Ivy_m.deliver_token(19).json',\n",
       " 'data/ivy/Ivy\\\\c.Ivy_m.deliver_token(2).json',\n",
       " 'data/ivy/Ivy\\\\c.Ivy_m.deliver_token(20).json',\n",
       " 'data/ivy/Ivy\\\\c.Ivy_m.deliver_token(21).json',\n",
       " 'data/ivy/Ivy\\\\c.Ivy_m.deliver_token(22).json',\n",
       " 'data/ivy/Ivy\\\\c.Ivy_m.deliver_token(23).json',\n",
       " 'data/ivy/Ivy\\\\c.Ivy_m.deliver_token(24).json',\n",
       " 'data/ivy/Ivy\\\\c.Ivy_m.deliver_token(25).json',\n",
       " 'data/ivy/Ivy\\\\c.Ivy_m.deliver_token(26).json',\n",
       " 'data/ivy/Ivy\\\\c.Ivy_m.deliver_token(27).json',\n",
       " 'data/ivy/Ivy\\\\c.Ivy_m.deliver_token(28).json',\n",
       " 'data/ivy/Ivy\\\\c.Ivy_m.deliver_token(29).json',\n",
       " 'data/ivy/Ivy\\\\c.Ivy_m.deliver_token(3).json',\n",
       " 'data/ivy/Ivy\\\\c.Ivy_m.deliver_token(30).json',\n",
       " 'data/ivy/Ivy\\\\c.Ivy_m.deliver_token(31).json',\n",
       " 'data/ivy/Ivy\\\\c.Ivy_m.deliver_token(32).json',\n",
       " 'data/ivy/Ivy\\\\c.Ivy_m.deliver_token(33).json',\n",
       " 'data/ivy/Ivy\\\\c.Ivy_m.deliver_token(34).json',\n",
       " 'data/ivy/Ivy\\\\c.Ivy_m.deliver_token(35).json',\n",
       " 'data/ivy/Ivy\\\\c.Ivy_m.deliver_token(36).json',\n",
       " 'data/ivy/Ivy\\\\c.Ivy_m.deliver_token(37).json',\n",
       " 'data/ivy/Ivy\\\\c.Ivy_m.deliver_token(38).json',\n",
       " 'data/ivy/Ivy\\\\c.Ivy_m.deliver_token(39).json',\n",
       " 'data/ivy/Ivy\\\\c.Ivy_m.deliver_token(4).json',\n",
       " 'data/ivy/Ivy\\\\c.Ivy_m.deliver_token(40).json',\n",
       " 'data/ivy/Ivy\\\\c.Ivy_m.deliver_token(41).json',\n",
       " 'data/ivy/Ivy\\\\c.Ivy_m.deliver_token(42).json',\n",
       " 'data/ivy/Ivy\\\\c.Ivy_m.deliver_token(43).json',\n",
       " 'data/ivy/Ivy\\\\c.Ivy_m.deliver_token(44).json',\n",
       " 'data/ivy/Ivy\\\\c.Ivy_m.deliver_token(45).json',\n",
       " 'data/ivy/Ivy\\\\c.Ivy_m.deliver_token(46).json',\n",
       " 'data/ivy/Ivy\\\\c.Ivy_m.deliver_token(47).json',\n",
       " 'data/ivy/Ivy\\\\c.Ivy_m.deliver_token(48).json',\n",
       " 'data/ivy/Ivy\\\\c.Ivy_m.deliver_token(49).json',\n",
       " 'data/ivy/Ivy\\\\c.Ivy_m.deliver_token(5).json',\n",
       " 'data/ivy/Ivy\\\\c.Ivy_m.deliver_token(50).json',\n",
       " 'data/ivy/Ivy\\\\c.Ivy_m.deliver_token(51).json',\n",
       " 'data/ivy/Ivy\\\\c.Ivy_m.deliver_token(52).json',\n",
       " 'data/ivy/Ivy\\\\c.Ivy_m.deliver_token(53).json',\n",
       " 'data/ivy/Ivy\\\\c.Ivy_m.deliver_token(54).json',\n",
       " 'data/ivy/Ivy\\\\c.Ivy_m.deliver_token(55).json',\n",
       " 'data/ivy/Ivy\\\\c.Ivy_m.deliver_token(56).json',\n",
       " 'data/ivy/Ivy\\\\c.Ivy_m.deliver_token(57).json',\n",
       " 'data/ivy/Ivy\\\\c.Ivy_m.deliver_token(58).json',\n",
       " 'data/ivy/Ivy\\\\c.Ivy_m.deliver_token(59).json',\n",
       " 'data/ivy/Ivy\\\\c.Ivy_m.deliver_token(6).json',\n",
       " 'data/ivy/Ivy\\\\c.Ivy_m.deliver_token(60).json',\n",
       " 'data/ivy/Ivy\\\\c.Ivy_m.deliver_token(61).json',\n",
       " 'data/ivy/Ivy\\\\c.Ivy_m.deliver_token(62).json',\n",
       " 'data/ivy/Ivy\\\\c.Ivy_m.deliver_token(63).json',\n",
       " 'data/ivy/Ivy\\\\c.Ivy_m.deliver_token(64).json',\n",
       " 'data/ivy/Ivy\\\\c.Ivy_m.deliver_token(65).json',\n",
       " 'data/ivy/Ivy\\\\c.Ivy_m.deliver_token(66).json',\n",
       " 'data/ivy/Ivy\\\\c.Ivy_m.deliver_token(67).json',\n",
       " 'data/ivy/Ivy\\\\c.Ivy_m.deliver_token(68).json',\n",
       " 'data/ivy/Ivy\\\\c.Ivy_m.deliver_token(69).json',\n",
       " 'data/ivy/Ivy\\\\c.Ivy_m.deliver_token(7).json',\n",
       " 'data/ivy/Ivy\\\\c.Ivy_m.deliver_token(70).json',\n",
       " 'data/ivy/Ivy\\\\c.Ivy_m.deliver_token(71).json',\n",
       " 'data/ivy/Ivy\\\\c.Ivy_m.deliver_token(72).json',\n",
       " 'data/ivy/Ivy\\\\c.Ivy_m.deliver_token(73).json',\n",
       " 'data/ivy/Ivy\\\\c.Ivy_m.deliver_token(74).json',\n",
       " 'data/ivy/Ivy\\\\c.Ivy_m.deliver_token(75).json',\n",
       " 'data/ivy/Ivy\\\\c.Ivy_m.deliver_token(76).json',\n",
       " 'data/ivy/Ivy\\\\c.Ivy_m.deliver_token(77).json',\n",
       " 'data/ivy/Ivy\\\\c.Ivy_m.deliver_token(78).json',\n",
       " 'data/ivy/Ivy\\\\c.Ivy_m.deliver_token(79).json',\n",
       " 'data/ivy/Ivy\\\\c.Ivy_m.deliver_token(8).json',\n",
       " 'data/ivy/Ivy\\\\c.Ivy_m.deliver_token(80).json',\n",
       " 'data/ivy/Ivy\\\\c.Ivy_m.deliver_token(81).json',\n",
       " 'data/ivy/Ivy\\\\c.Ivy_m.deliver_token(82).json',\n",
       " 'data/ivy/Ivy\\\\c.Ivy_m.deliver_token(83).json',\n",
       " 'data/ivy/Ivy\\\\c.Ivy_m.deliver_token(84).json',\n",
       " 'data/ivy/Ivy\\\\c.Ivy_m.deliver_token(85).json',\n",
       " 'data/ivy/Ivy\\\\c.Ivy_m.deliver_token(86).json',\n",
       " 'data/ivy/Ivy\\\\c.Ivy_m.deliver_token(87).json',\n",
       " 'data/ivy/Ivy\\\\c.Ivy_m.deliver_token(88).json',\n",
       " 'data/ivy/Ivy\\\\c.Ivy_m.deliver_token(89).json',\n",
       " 'data/ivy/Ivy\\\\c.Ivy_m.deliver_token(9).json',\n",
       " 'data/ivy/Ivy\\\\c.Ivy_m.deliver_token(90).json',\n",
       " 'data/ivy/Ivy\\\\c.Ivy_m.deliver_token(91).json',\n",
       " 'data/ivy/Ivy\\\\c.Ivy_m.deliver_token(92).json',\n",
       " 'data/ivy/Ivy\\\\c.Ivy_m.deliver_token(93).json',\n",
       " 'data/ivy/Ivy\\\\c.Ivy_m.deliver_token(94).json',\n",
       " 'data/ivy/Ivy\\\\c.Ivy_m.deliver_token(95).json',\n",
       " 'data/ivy/Ivy\\\\c.Ivy_m.deliver_token(96).json',\n",
       " 'data/ivy/Ivy\\\\c.Ivy_m.deliver_token(97).json',\n",
       " 'data/ivy/Ivy\\\\c.Ivy_m.deliver_token(98).json',\n",
       " 'data/ivy/Ivy\\\\c.Ivy_m.deliver_token(99).json',\n",
       " 'data/ivy/Ivy\\\\c.Ivy_m.deliver_token.json']"
      ]
     },
     "execution_count": 152,
     "metadata": {},
     "output_type": "execute_result"
    }
   ],
   "source": [
    "# Get deliver() methods and their tokens\n",
    "# Note that the tokens are not differentiated specifically by which deliver method they're from\n",
    "paths, levels = get_embedding_paths(sub_dirs = ['data/ivy/Ivy'], \n",
    "                                    levels = ['method', 'token'],\n",
    "                                    id_nestings = [\n",
    "                                        [('Ivy','class'), ('deliver','method')],\n",
    "                                        [('Ivy','class'), ('deliver(0)','method')],\n",
    "                                        [('Ivy','class'), ('deliver(1)','method')]\n",
    "                                    ]\n",
    "                                    )\n",
    "paths"
   ]
  },
  {
   "cell_type": "markdown",
   "metadata": {},
   "source": [
    "---\n",
    "\n",
    "### Brief analysis"
   ]
  },
  {
   "cell_type": "code",
   "execution_count": 6,
   "metadata": {},
   "outputs": [],
   "source": [
    "from _collections_abc import Iterable\n",
    "import json\n",
    "\n",
    "import gudhi\n",
    "import numpy as np\n",
    "import matplotlib.pyplot as plt"
   ]
  },
  {
   "cell_type": "code",
   "execution_count": null,
   "metadata": {},
   "outputs": [],
   "source": [
    "def paths_to_data(paths:Iterable[str]) -> dict:\n",
    "    '''\n",
    "    Takes a list of directory paths to JSON files generated by CodeEmbeddingsGenerator.py, \n",
    "    then loads the data and compiles them into a single dictionary.\n",
    "\n",
    "    Args:\n",
    "        paths: The list of directory paths to JSON files.\n",
    "\n",
    "    Returns:\n",
    "        data: A dataset of embeddings, the associated identifier/token name, \n",
    "            the start and end indices for parsing the original code fragment,\n",
    "            and the directory path to the JSON file.\n",
    "    '''\n",
    "    data = {'embeds':list(), 'names':list(), 'spans':list(), 'paths':list()}\n",
    "    for path in paths:\n",
    "        file = json.load(open(path, 'r'))\n",
    "        data['embeds'].append(file[0][0]) # Embedding\n",
    "        data['names'].append(file[1]) # Identifier or token name\n",
    "        data['spans'].append(file[2]) # Start and end indices in source code\n",
    "        data['paths'].append(path) # Path to file\n",
    "    return data"
   ]
  },
  {
   "cell_type": "code",
   "execution_count": 30,
   "metadata": {},
   "outputs": [],
   "source": [
    "paths, levels = get_embedding_paths(sub_dirs = ['data/ivy/Ivy'], levels = ['method']) # All methods from Ivy.java"
   ]
  },
  {
   "cell_type": "code",
   "execution_count": null,
   "metadata": {},
   "outputs": [],
   "source": [
    "data = paths_to_data(paths)\n",
    "data['levels'] = levels # Add embedding levels"
   ]
  },
  {
   "cell_type": "code",
   "execution_count": 10,
   "metadata": {},
   "outputs": [
    {
     "data": {
      "image/png": "[encoded data removed]",
      "text/plain": [
       "<Figure size 640x480 with 1 Axes>"
      ]
     },
     "metadata": {},
     "output_type": "display_data"
    }
   ],
   "source": [
    "rips = gudhi.RipsComplex(points=data['embeds']) # Vietoris-Rips complex\n",
    "tree = rips.create_simplex_tree(max_dimension=2)\n",
    "\n",
    "# Plot persistence diagram\n",
    "barcode = tree.persistence()\n",
    "gudhi.plot_persistence_diagram(barcode)\n",
    "plt.title('Persistence Diagram of the Rips Complex')\n",
    "plt.show()"
   ]
  },
  {
   "cell_type": "code",
   "execution_count": 11,
   "metadata": {},
   "outputs": [
    {
     "data": {
      "image/png": "[encoded data removed]",
      "text/plain": [
       "<Figure size 640x480 with 1 Axes>"
      ]
     },
     "metadata": {},
     "output_type": "display_data"
    }
   ],
   "source": [
    "# Plot barcode\n",
    "gudhi.plot_persistence_barcode(barcode)\n",
    "plt.show()"
   ]
  },
  {
   "cell_type": "code",
   "execution_count": 12,
   "metadata": {},
   "outputs": [],
   "source": [
    "def GetBettiCurvesFromPointCloud(X, J, dim=3):\n",
    "    '''\n",
    "    Computes the Betti curves of the Rips complex on the point cloud X, \n",
    "    on the interval J, up to dimension dim.\n",
    "\n",
    "    Input:\n",
    "        X (np.array): size Nx2, the point cloud.\n",
    "        J (np.array): interval. Shape 1xM. \n",
    "        dim (int, optional): maximal dimension to compute the Betti curves. \n",
    "    \n",
    "    Output:\n",
    "        BettiCurves (np.array): the Betti curves. Shape (dim+1)xM. The ith \n",
    "                                Betti curve is given by BettiCurve[i,:].  \n",
    "                                \n",
    "    Example:\n",
    "        X = np.asarray([[0,1],[1,0],[-1,1]])\n",
    "        J = np.linspace(0,1,100)\n",
    "        GetBettiCurvesFromPointCloud(X, J, dim = 2)\n",
    "    '''\n",
    "    I = 2*J\n",
    "    tmax = max(I)\n",
    "    rips = gudhi.RipsComplex(points=X, max_edge_length = tmax)\n",
    "    st = rips.create_simplex_tree(max_dimension=dim)\n",
    "    st.persistence(persistence_dim_max=True, homology_coeff_field = 2)\n",
    "    Diagrams = [st.persistence_intervals_in_dimension(i) for i in range(dim+1)]\n",
    "    BettiCurves = []\n",
    "    step_x = I[1]-I[0]\n",
    "    for diagram in Diagrams:\n",
    "        bc =  np.zeros(len(I))\n",
    "        if diagram.size != 0:\n",
    "            diagram_int = np.clip(np.ceil((diagram[:,:2] - I[0]) / step_x), 0, len(I)).astype(int)\n",
    "            for interval in diagram_int:\n",
    "                bc[interval[0]:interval[1]] += 1\n",
    "        BettiCurves.append(np.reshape(bc,[1,-1]))\n",
    "    return np.reshape(BettiCurves, (dim+1, len(I)))"
   ]
  },
  {
   "cell_type": "code",
   "execution_count": 15,
   "metadata": {},
   "outputs": [
    {
     "data": {
      "image/png": "[encoded data removed]",
      "text/plain": [
       "<Figure size 640x480 with 1 Axes>"
      ]
     },
     "metadata": {},
     "output_type": "display_data"
    },
    {
     "data": {
      "image/png": "[encoded data removed]",
      "text/plain": [
       "<Figure size 640x480 with 1 Axes>"
      ]
     },
     "metadata": {},
     "output_type": "display_data"
    }
   ],
   "source": [
    "J = np.linspace(0,30,100)\n",
    "dim = 2\n",
    "betti_curves = GetBettiCurvesFromPointCloud(data['embeds'], J, dim=dim)\n",
    "\n",
    "for d in range(dim):\n",
    "    plt.figure()\n",
    "    plt.step(J, betti_curves[d])\n",
    "    plt.ylim(0, max(betti_curves[d])+1)\n",
    "    plt.grid()\n",
    "    plt.title(f'{d}-Betti curve')\n",
    "    plt.show()"
   ]
  },
  {
   "cell_type": "markdown",
   "metadata": {},
   "source": [
    "---\n",
    "\n",
    "### Interactive 3D scatterplot using MDS and Plotly"
   ]
  },
  {
   "cell_type": "code",
   "execution_count": null,
   "metadata": {},
   "outputs": [],
   "source": [
    "from sklearn.metrics import pairwise_distances\n",
    "from sklearn.manifold import MDS\n",
    "import plotly.graph_objects as go\n",
    "# import plotly.express as px"
   ]
  },
  {
   "cell_type": "code",
   "execution_count": null,
   "metadata": {},
   "outputs": [
    {
     "data": {
      "application/vnd.plotly.v1+json": {
       "config": {
        "plotlyServerURL": "https://plot.ly"
       },
       "data": [
        {
         "customdata": [
          [
           "assertBound",
           "(28260, 28346)"
          ],
          [
           "bind",
           "(9696, 12335)"
          ],
          [
           "transferProgress",
           "(11116, 12230)"
          ],
          [
           "check",
           "(16265, 16481)"
          ],
          [
           "checkInterrupted",
           "(27823, 28018)"
          ],
          [
           "configure",
           "(15099, 15369)"
          ],
          [
           "configure",
           "(14820, 15093)"
          ],
          [
           "configureDefault",
           "(15375, 15633)"
          ],
          [
           "configureDefault14",
           "(15826, 16088)"
          ],
          [
           "deliver",
           "(19986, 20287)"
          ],
          [
           "deliver",
           "(20723, 21053)"
          ],
          [
           "deliver",
           "(19629, 19980)"
          ],
          [
           "doInIvyContext",
           "(5346, 5397)"
          ],
          [
           "execute",
           "(12905, 13124)"
          ],
          [
           "findModule",
           "(23402, 23725)"
          ],
          [
           "getCheckEngine",
           "(29800, 29871)"
          ],
          [
           "getDeliverEngine",
           "(29982, 30059)"
          ],
          [
           "getEventManager",
           "(29720, 29794)"
          ],
          [
           "getInstallEngine",
           "(30180, 30257)"
          ],
          [
           "getIvyDate",
           "(7038, 7104)"
          ],
          [
           "getIvyHomeURL",
           "(7250, 7340)"
          ],
          [
           "getIvyVersion",
           "(6761, 6833)"
          ],
          [
           "getLoggerEngine",
           "(31789, 31870)"
          ],
          [
           "getPublishEngine",
           "(30378, 30455)"
          ],
          [
           "getRepositoryEngine",
           "(31344, 31440)"
          ],
          [
           "getResolutionCacheManager",
           "(28136, 28254)"
          ],
          [
           "getResolveEngine",
           "(30576, 30653)"
          ],
          [
           "getRetrieveEngine",
           "(30774, 30854)"
          ],
          [
           "getSearchEngine",
           "(30980, 31054)"
          ],
          [
           "getSettings",
           "(29649, 29714)"
          ],
          [
           "getSortEngine",
           "(31170, 31238)"
          ],
          [
           "getVariable",
           "(28802, 29015)"
          ],
          [
           "getWorkingRevision",
           "(28024, 28130)"
          ],
          [
           "install",
           "(18380, 18678)"
          ],
          [
           "interrupt",
           "(26451, 27600)"
          ],
          [
           "interrupt",
           "(26094, 26240)"
          ],
          [
           "isInterrupted",
           "(27606, 27685)"
          ],
          [
           "listModuleEntries",
           "(23731, 23949)"
          ],
          [
           "listModules",
           "(24198, 24451)"
          ],
          [
           "listModules",
           "(24457, 24647)"
          ],
          [
           "listModules",
           "(23955, 24192)"
          ],
          [
           "listOrganisationEntries",
           "(24653, 24865)"
          ],
          [
           "listOrganisations",
           "(24871, 25060)"
          ],
          [
           "listRevisionEntries",
           "(25066, 25290)"
          ],
          [
           "listRevisions",
           "(25296, 25513)"
          ],
          [
           "listTokenValues",
           "(25519, 25777)"
          ],
          [
           "newInstance",
           "(7460, 7623)"
          ],
          [
           "newInstance",
           "(7346, 7454)"
          ],
          [
           "popContext",
           "(14570, 14635)"
          ],
          [
           "postConfigure",
           "(28352, 28796)"
          ],
          [
           "publish",
           "(21233, 21610)"
          ],
          [
           "pushContext",
           "(13648, 14175)"
          ],
          [
           "resolve",
           "(16900, 17132)"
          ],
          [
           "resolve",
           "(17138, 17446)"
          ],
          [
           "resolve",
           "(17452, 17729)"
          ],
          [
           "resolve",
           "(17735, 17918)"
          ],
          [
           "resolve",
           "(17924, 18200)"
          ],
          [
           "resolve",
           "(16661, 16894)"
          ],
          [
           "retrieve",
           "(19180, 19449)"
          ],
          [
           "retrieve",
           "(18859, 19174)"
          ],
          [
           "setCheckEngine",
           "(29877, 29976)"
          ],
          [
           "setDeliverEngine",
           "(30065, 30174)"
          ],
          [
           "setEventManager",
           "(31586, 31690)"
          ],
          [
           "setInstallEngine",
           "(30263, 30372)"
          ],
          [
           "setPublishEngine",
           "(30461, 30570)"
          ],
          [
           "setRepositoryEngine",
           "(31446, 31580)"
          ],
          [
           "setResolveEngine",
           "(30659, 30768)"
          ],
          [
           "setRetrieveEngine",
           "(30860, 30974)"
          ],
          [
           "setSearchEngine",
           "(31060, 31164)"
          ],
          [
           "setSettings",
           "(31696, 31783)"
          ],
          [
           "setSortEngine",
           "(31244, 31338)"
          ],
          [
           "setVariable",
           "(29236, 29467)"
          ],
          [
           "sortModuleDescriptors",
           "(22903, 23223)"
          ],
          [
           "sortNodes",
           "(22010, 22251)"
          ],
          [
           "substitute",
           "(29021, 29230)"
          ]
         ],
         "hovertemplate": "x: %{x} <br>y: %{y} <br>Method name: %{customdata[0]} <br>span: %{customdata[1]}",
         "marker": {
          "color": [
           0,
           1,
           1,
           1,
           1,
           1,
           1,
           1,
           1,
           1,
           1,
           1,
           1,
           1,
           1,
           0,
           0,
           0,
           0,
           0,
           0,
           0,
           1,
           0,
           0,
           1,
           0,
           0,
           0,
           0,
           0,
           0,
           0,
           1,
           1,
           0,
           1,
           1,
           1,
           1,
           1,
           1,
           1,
           1,
           1,
           0,
           0,
           0,
           1,
           0,
           1,
           1,
           1,
           1,
           1,
           1,
           1,
           1,
           1,
           1,
           0,
           0,
           1,
           0,
           0,
           0,
           0,
           0,
           0,
           0,
           0,
           1,
           0,
           0,
           1
          ],
          "colorscale": [
           [
            0,
            "rgb(0,0,255)"
           ],
           [
            1,
            "rgb(255,0,0)"
           ]
          ],
          "opacity": 0.7,
          "size": 5
         },
         "mode": "markers",
         "name": "",
         "type": "scatter3d",
         "x": [
          -26.55017651379624,
          0.8821719870487202,
          -27.99115328609519,
          -9.395874256018883,
          -40.62434437471887,
          -23.86150848633226,
          -24.298107905458856,
          -27.758636083581006,
          -27.38691047772574,
          10.545046457906297,
          10.447287602756465,
          10.036243788026773,
          -2.889045587087745,
          -11.609663791127613,
          -2.4884961439639275,
          16.720176482212295,
          30.46837560109439,
          -2.3121505214903646,
          26.76708629604261,
          0.9784999432806496,
          14.13875960968119,
          6.214343175356695,
          11.936077248052284,
          24.343235699866558,
          16.640735469636358,
          24.642138378211783,
          18.170629809766503,
          19.883837557594497,
          8.923205733341362,
          7.098406685013694,
          18.311611662889142,
          -32.63658484916979,
          -30.553941879447457,
          2.9428444246370344,
          -18.586600287095457,
          -11.975225728878465,
          -29.593121930106282,
          -7.30558877643797,
          -10.480853091723164,
          -16.251215863744164,
          -14.221987199245678,
          -7.968890582475303,
          -15.283217095654722,
          -4.345434453362447,
          -10.137116093161923,
          -15.102760753104056,
          4.5968904528141605,
          0.18010160728498176,
          -18.73401995432598,
          27.33516775157133,
          6.39590003193696,
          -19.335463680449184,
          -7.759730517648485,
          -3.098904123440891,
          -7.754874358631413,
          -6.29312946882587,
          -9.53040557437908,
          -7.361902174515834,
          -4.594045987511044,
          -10.20971783615777,
          23.348959928415184,
          36.738256341649176,
          -1.307444056675388,
          32.93542303306408,
          33.15592972651784,
          23.926691152871356,
          27.62663736868853,
          28.947327595843564,
          14.891870767730031,
          16.2134450100382,
          24.14345642175339,
          -24.466557474654437,
          7.782421202567335,
          18.4580219804475,
          -34.712412767390006
         ],
         "y": [
          31.40785873174154,
          5.5197512233118085,
          -17.158958891081596,
          -1.5420018233966455,
          18.4111191053655,
          0.37541023061116857,
          -1.6886731825713928,
          -1.1364599152098773,
          -3.8010762366166624,
          -23.215330545315677,
          -21.693063278865054,
          -16.8722934719509,
          -6.369530118463362,
          2.7083043119242998,
          -29.515407855182666,
          25.248543126544643,
          2.230346848349566,
          36.832178024382415,
          0.2303549677125392,
          19.71386000497035,
          16.170549512194718,
          22.21660907103565,
          27.366024445501495,
          12.857776681022745,
          19.001401981793293,
          -25.431520799775107,
          -4.728895079694614,
          13.752670209980186,
          12.919600137773987,
          5.988165645854103,
          -0.35314790652443173,
          12.522074108547942,
          -28.30014784952633,
          -29.15999909896057,
          21.445204822139466,
          31.456364117177777,
          28.930974967794597,
          -2.9398375790823663,
          -18.743864707049113,
          -6.330503531654561,
          -14.184205988698478,
          9.587094095878559,
          8.280105588954951,
          -15.281666379773108,
          -11.18915626533838,
          18.290103891386703,
          0.8567059898433752,
          7.611078129546607,
          9.572684265359054,
          -16.32233007859845,
          -24.69288294939622,
          -0.6202535873290526,
          -14.400868009189749,
          -26.149616187082156,
          -18.36946422165485,
          -22.841013549738626,
          -18.90864310795286,
          -15.21322618607609,
          -12.541432678745553,
          -30.625761576273266,
          27.396746635940353,
          2.3181611360281558,
          39.10609164415762,
          -2.0467371000425754,
          12.548326703414418,
          19.4540756305344,
          -10.919584462491265,
          15.439150829007465,
          11.604768217520446,
          -1.736750537209603,
          -3.257441828321496,
          12.451404417823907,
          -25.263017078528428,
          -32.407320040101276,
          -5.869555767663308
         ],
         "z": [
          -9.30535384240173,
          -0.9392124477637851,
          19.3107220630567,
          11.93019753929511,
          11.788602803485263,
          -4.644806828656894,
          -3.4349498231519404,
          -0.4435254305133194,
          0.5323596957304377,
          22.343445939767708,
          15.8394877648037,
          15.40447367174069,
          38.70731605020906,
          20.920079577686604,
          -11.314598323798267,
          -0.5786413757427806,
          6.373240327947775,
          -5.0523314693889,
          -9.802007509253329,
          29.457997470731556,
          31.309988614584615,
          26.759259792019407,
          -11.490995087667411,
          -7.751545541144465,
          -17.001783762260526,
          -8.262777745595315,
          -2.3190040917561996,
          3.1411243863087313,
          -21.400834984562508,
          27.548895107092306,
          -21.84795249907345,
          -15.613549994590567,
          -4.323570558834758,
          -1.4094440414130918,
          6.944546095428773,
          20.86211876418622,
          10.026964180568315,
          -31.58710026367391,
          -20.92415444848127,
          -28.154289882475915,
          -18.90398284991484,
          -36.33271001438966,
          -34.97405590155898,
          -31.969633756869342,
          -26.131009488187892,
          -26.987530782293824,
          35.424499159243524,
          40.15408756160709,
          26.426205417533655,
          21.92154372578068,
          -11.75693816040675,
          35.492557321442966,
          14.133927436187818,
          -1.4880230995355892,
          12.293830142021912,
          20.41666061064792,
          -1.416642415779405,
          14.90579714727246,
          -5.2931329688387985,
          -2.3753258105689494,
          -1.7455633289841543,
          4.951518998458349,
          -9.051869396012279,
          -10.941809823818629,
          -8.870571868381298,
          -20.066512448199028,
          -1.9113358195163994,
          5.688946898256882,
          -29.215969383475393,
          33.86878062100035,
          -26.023330890438103,
          -5.34023216911972,
          -27.696522918610295,
          1.829214602937605,
          -10.613256239934547
         ]
        }
       ],
       "layout": {
        "margin": {
         "b": 0,
         "l": 0,
         "r": 0,
         "t": 0
        },
        "template": {
         "data": {
          "bar": [
           {
            "error_x": {
             "color": "#2a3f5f"
            },
            "error_y": {
             "color": "#2a3f5f"
            },
            "marker": {
             "line": {
              "color": "#E5ECF6",
              "width": 0.5
             },
             "pattern": {
              "fillmode": "overlay",
              "size": 10,
              "solidity": 0.2
             }
            },
            "type": "bar"
           }
          ],
          "barpolar": [
           {
            "marker": {
             "line": {
              "color": "#E5ECF6",
              "width": 0.5
             },
             "pattern": {
              "fillmode": "overlay",
              "size": 10,
              "solidity": 0.2
             }
            },
            "type": "barpolar"
           }
          ],
          "carpet": [
           {
            "aaxis": {
             "endlinecolor": "#2a3f5f",
             "gridcolor": "white",
             "linecolor": "white",
             "minorgridcolor": "white",
             "startlinecolor": "#2a3f5f"
            },
            "baxis": {
             "endlinecolor": "#2a3f5f",
             "gridcolor": "white",
             "linecolor": "white",
             "minorgridcolor": "white",
             "startlinecolor": "#2a3f5f"
            },
            "type": "carpet"
           }
          ],
          "choropleth": [
           {
            "colorbar": {
             "outlinewidth": 0,
             "ticks": ""
            },
            "type": "choropleth"
           }
          ],
          "contour": [
           {
            "colorbar": {
             "outlinewidth": 0,
             "ticks": ""
            },
            "colorscale": [
             [
              0,
              "#0d0887"
             ],
             [
              0.1111111111111111,
              "#46039f"
             ],
             [
              0.2222222222222222,
              "#7201a8"
             ],
             [
              0.3333333333333333,
              "#9c179e"
             ],
             [
              0.4444444444444444,
              "#bd3786"
             ],
             [
              0.5555555555555556,
              "#d8576b"
             ],
             [
              0.6666666666666666,
              "#ed7953"
             ],
             [
              0.7777777777777778,
              "#fb9f3a"
             ],
             [
              0.8888888888888888,
              "#fdca26"
             ],
             [
              1,
              "#f0f921"
             ]
            ],
            "type": "contour"
           }
          ],
          "contourcarpet": [
           {
            "colorbar": {
             "outlinewidth": 0,
             "ticks": ""
            },
            "type": "contourcarpet"
           }
          ],
          "heatmap": [
           {
            "colorbar": {
             "outlinewidth": 0,
             "ticks": ""
            },
            "colorscale": [
             [
              0,
              "#0d0887"
             ],
             [
              0.1111111111111111,
              "#46039f"
             ],
             [
              0.2222222222222222,
              "#7201a8"
             ],
             [
              0.3333333333333333,
              "#9c179e"
             ],
             [
              0.4444444444444444,
              "#bd3786"
             ],
             [
              0.5555555555555556,
              "#d8576b"
             ],
             [
              0.6666666666666666,
              "#ed7953"
             ],
             [
              0.7777777777777778,
              "#fb9f3a"
             ],
             [
              0.8888888888888888,
              "#fdca26"
             ],
             [
              1,
              "#f0f921"
             ]
            ],
            "type": "heatmap"
           }
          ],
          "heatmapgl": [
           {
            "colorbar": {
             "outlinewidth": 0,
             "ticks": ""
            },
            "colorscale": [
             [
              0,
              "#0d0887"
             ],
             [
              0.1111111111111111,
              "#46039f"
             ],
             [
              0.2222222222222222,
              "#7201a8"
             ],
             [
              0.3333333333333333,
              "#9c179e"
             ],
             [
              0.4444444444444444,
              "#bd3786"
             ],
             [
              0.5555555555555556,
              "#d8576b"
             ],
             [
              0.6666666666666666,
              "#ed7953"
             ],
             [
              0.7777777777777778,
              "#fb9f3a"
             ],
             [
              0.8888888888888888,
              "#fdca26"
             ],
             [
              1,
              "#f0f921"
             ]
            ],
            "type": "heatmapgl"
           }
          ],
          "histogram": [
           {
            "marker": {
             "pattern": {
              "fillmode": "overlay",
              "size": 10,
              "solidity": 0.2
             }
            },
            "type": "histogram"
           }
          ],
          "histogram2d": [
           {
            "colorbar": {
             "outlinewidth": 0,
             "ticks": ""
            },
            "colorscale": [
             [
              0,
              "#0d0887"
             ],
             [
              0.1111111111111111,
              "#46039f"
             ],
             [
              0.2222222222222222,
              "#7201a8"
             ],
             [
              0.3333333333333333,
              "#9c179e"
             ],
             [
              0.4444444444444444,
              "#bd3786"
             ],
             [
              0.5555555555555556,
              "#d8576b"
             ],
             [
              0.6666666666666666,
              "#ed7953"
             ],
             [
              0.7777777777777778,
              "#fb9f3a"
             ],
             [
              0.8888888888888888,
              "#fdca26"
             ],
             [
              1,
              "#f0f921"
             ]
            ],
            "type": "histogram2d"
           }
          ],
          "histogram2dcontour": [
           {
            "colorbar": {
             "outlinewidth": 0,
             "ticks": ""
            },
            "colorscale": [
             [
              0,
              "#0d0887"
             ],
             [
              0.1111111111111111,
              "#46039f"
             ],
             [
              0.2222222222222222,
              "#7201a8"
             ],
             [
              0.3333333333333333,
              "#9c179e"
             ],
             [
              0.4444444444444444,
              "#bd3786"
             ],
             [
              0.5555555555555556,
              "#d8576b"
             ],
             [
              0.6666666666666666,
              "#ed7953"
             ],
             [
              0.7777777777777778,
              "#fb9f3a"
             ],
             [
              0.8888888888888888,
              "#fdca26"
             ],
             [
              1,
              "#f0f921"
             ]
            ],
            "type": "histogram2dcontour"
           }
          ],
          "mesh3d": [
           {
            "colorbar": {
             "outlinewidth": 0,
             "ticks": ""
            },
            "type": "mesh3d"
           }
          ],
          "parcoords": [
           {
            "line": {
             "colorbar": {
              "outlinewidth": 0,
              "ticks": ""
             }
            },
            "type": "parcoords"
           }
          ],
          "pie": [
           {
            "automargin": true,
            "type": "pie"
           }
          ],
          "scatter": [
           {
            "fillpattern": {
             "fillmode": "overlay",
             "size": 10,
             "solidity": 0.2
            },
            "type": "scatter"
           }
          ],
          "scatter3d": [
           {
            "line": {
             "colorbar": {
              "outlinewidth": 0,
              "ticks": ""
             }
            },
            "marker": {
             "colorbar": {
              "outlinewidth": 0,
              "ticks": ""
             }
            },
            "type": "scatter3d"
           }
          ],
          "scattercarpet": [
           {
            "marker": {
             "colorbar": {
              "outlinewidth": 0,
              "ticks": ""
             }
            },
            "type": "scattercarpet"
           }
          ],
          "scattergeo": [
           {
            "marker": {
             "colorbar": {
              "outlinewidth": 0,
              "ticks": ""
             }
            },
            "type": "scattergeo"
           }
          ],
          "scattergl": [
           {
            "marker": {
             "colorbar": {
              "outlinewidth": 0,
              "ticks": ""
             }
            },
            "type": "scattergl"
           }
          ],
          "scattermapbox": [
           {
            "marker": {
             "colorbar": {
              "outlinewidth": 0,
              "ticks": ""
             }
            },
            "type": "scattermapbox"
           }
          ],
          "scatterpolar": [
           {
            "marker": {
             "colorbar": {
              "outlinewidth": 0,
              "ticks": ""
             }
            },
            "type": "scatterpolar"
           }
          ],
          "scatterpolargl": [
           {
            "marker": {
             "colorbar": {
              "outlinewidth": 0,
              "ticks": ""
             }
            },
            "type": "scatterpolargl"
           }
          ],
          "scatterternary": [
           {
            "marker": {
             "colorbar": {
              "outlinewidth": 0,
              "ticks": ""
             }
            },
            "type": "scatterternary"
           }
          ],
          "surface": [
           {
            "colorbar": {
             "outlinewidth": 0,
             "ticks": ""
            },
            "colorscale": [
             [
              0,
              "#0d0887"
             ],
             [
              0.1111111111111111,
              "#46039f"
             ],
             [
              0.2222222222222222,
              "#7201a8"
             ],
             [
              0.3333333333333333,
              "#9c179e"
             ],
             [
              0.4444444444444444,
              "#bd3786"
             ],
             [
              0.5555555555555556,
              "#d8576b"
             ],
             [
              0.6666666666666666,
              "#ed7953"
             ],
             [
              0.7777777777777778,
              "#fb9f3a"
             ],
             [
              0.8888888888888888,
              "#fdca26"
             ],
             [
              1,
              "#f0f921"
             ]
            ],
            "type": "surface"
           }
          ],
          "table": [
           {
            "cells": {
             "fill": {
              "color": "#EBF0F8"
             },
             "line": {
              "color": "white"
             }
            },
            "header": {
             "fill": {
              "color": "#C8D4E3"
             },
             "line": {
              "color": "white"
             }
            },
            "type": "table"
           }
          ]
         },
         "layout": {
          "annotationdefaults": {
           "arrowcolor": "#2a3f5f",
           "arrowhead": 0,
           "arrowwidth": 1
          },
          "autotypenumbers": "strict",
          "coloraxis": {
           "colorbar": {
            "outlinewidth": 0,
            "ticks": ""
           }
          },
          "colorscale": {
           "diverging": [
            [
             0,
             "#8e0152"
            ],
            [
             0.1,
             "#c51b7d"
            ],
            [
             0.2,
             "#de77ae"
            ],
            [
             0.3,
             "#f1b6da"
            ],
            [
             0.4,
             "#fde0ef"
            ],
            [
             0.5,
             "#f7f7f7"
            ],
            [
             0.6,
             "#e6f5d0"
            ],
            [
             0.7,
             "#b8e186"
            ],
            [
             0.8,
             "#7fbc41"
            ],
            [
             0.9,
             "#4d9221"
            ],
            [
             1,
             "#276419"
            ]
           ],
           "sequential": [
            [
             0,
             "#0d0887"
            ],
            [
             0.1111111111111111,
             "#46039f"
            ],
            [
             0.2222222222222222,
             "#7201a8"
            ],
            [
             0.3333333333333333,
             "#9c179e"
            ],
            [
             0.4444444444444444,
             "#bd3786"
            ],
            [
             0.5555555555555556,
             "#d8576b"
            ],
            [
             0.6666666666666666,
             "#ed7953"
            ],
            [
             0.7777777777777778,
             "#fb9f3a"
            ],
            [
             0.8888888888888888,
             "#fdca26"
            ],
            [
             1,
             "#f0f921"
            ]
           ],
           "sequentialminus": [
            [
             0,
             "#0d0887"
            ],
            [
             0.1111111111111111,
             "#46039f"
            ],
            [
             0.2222222222222222,
             "#7201a8"
            ],
            [
             0.3333333333333333,
             "#9c179e"
            ],
            [
             0.4444444444444444,
             "#bd3786"
            ],
            [
             0.5555555555555556,
             "#d8576b"
            ],
            [
             0.6666666666666666,
             "#ed7953"
            ],
            [
             0.7777777777777778,
             "#fb9f3a"
            ],
            [
             0.8888888888888888,
             "#fdca26"
            ],
            [
             1,
             "#f0f921"
            ]
           ]
          },
          "colorway": [
           "#636efa",
           "#EF553B",
           "#00cc96",
           "#ab63fa",
           "#FFA15A",
           "#19d3f3",
           "#FF6692",
           "#B6E880",
           "#FF97FF",
           "#FECB52"
          ],
          "font": {
           "color": "#2a3f5f"
          },
          "geo": {
           "bgcolor": "white",
           "lakecolor": "white",
           "landcolor": "#E5ECF6",
           "showlakes": true,
           "showland": true,
           "subunitcolor": "white"
          },
          "hoverlabel": {
           "align": "left"
          },
          "hovermode": "closest",
          "mapbox": {
           "style": "light"
          },
          "paper_bgcolor": "white",
          "plot_bgcolor": "#E5ECF6",
          "polar": {
           "angularaxis": {
            "gridcolor": "white",
            "linecolor": "white",
            "ticks": ""
           },
           "bgcolor": "#E5ECF6",
           "radialaxis": {
            "gridcolor": "white",
            "linecolor": "white",
            "ticks": ""
           }
          },
          "scene": {
           "xaxis": {
            "backgroundcolor": "#E5ECF6",
            "gridcolor": "white",
            "gridwidth": 2,
            "linecolor": "white",
            "showbackground": true,
            "ticks": "",
            "zerolinecolor": "white"
           },
           "yaxis": {
            "backgroundcolor": "#E5ECF6",
            "gridcolor": "white",
            "gridwidth": 2,
            "linecolor": "white",
            "showbackground": true,
            "ticks": "",
            "zerolinecolor": "white"
           },
           "zaxis": {
            "backgroundcolor": "#E5ECF6",
            "gridcolor": "white",
            "gridwidth": 2,
            "linecolor": "white",
            "showbackground": true,
            "ticks": "",
            "zerolinecolor": "white"
           }
          },
          "shapedefaults": {
           "line": {
            "color": "#2a3f5f"
           }
          },
          "ternary": {
           "aaxis": {
            "gridcolor": "white",
            "linecolor": "white",
            "ticks": ""
           },
           "baxis": {
            "gridcolor": "white",
            "linecolor": "white",
            "ticks": ""
           },
           "bgcolor": "#E5ECF6",
           "caxis": {
            "gridcolor": "white",
            "linecolor": "white",
            "ticks": ""
           }
          },
          "title": {
           "x": 0.05
          },
          "xaxis": {
           "automargin": true,
           "gridcolor": "white",
           "linecolor": "white",
           "ticks": "",
           "title": {
            "standoff": 15
           },
           "zerolinecolor": "white",
           "zerolinewidth": 2
          },
          "yaxis": {
           "automargin": true,
           "gridcolor": "white",
           "linecolor": "white",
           "ticks": "",
           "title": {
            "standoff": 15
           },
           "zerolinecolor": "white",
           "zerolinewidth": 2
          }
         }
        }
       }
      }
     },
     "metadata": {},
     "output_type": "display_data"
    }
   ],
   "source": [
    "# Show in R^3\n",
    "dists = pairwise_distances(data['embeds'])\n",
    "mds = MDS(n_components=3, max_iter=3000, eps=1e-9, dissimilarity=\"precomputed\", n_jobs=1) # Multidimensional scaling\n",
    "pos = mds.fit(dists).embedding_\n",
    "\n",
    "# There's no intended meaning here. I just wanted to group the embeddings in some way.\n",
    "color = [1 if sum(embed)>27 else 0 for embed in data['embeds']]\n",
    "# Additional data to include in tooltips\n",
    "customdata = np.stack((data['names'], [str(tuple(span)) for span in data['spans']]), axis=1)\n",
    "\n",
    "fig = go.Figure(data=[go.Scatter3d(x=pos[:,0], y=pos[:,1], z=pos[:,2],\n",
    "                                   mode='markers',\n",
    "                                   marker=dict(color=color, colorscale='Bluered',\n",
    "                                               size=5, opacity=0.7),\n",
    "                                   customdata = customdata,\n",
    "                                   hovertemplate = 'x: %{x} <br>y: %{y} <br>Method name: %{customdata[0]} <br>span: %{customdata[1]}',\n",
    "                                   name = '' # Remove trace from tooltips\n",
    "                                   )])\n",
    "\n",
    "# Tight layout\n",
    "fig.update_layout(margin=dict(l=0, r=0, b=0, t=0))\n",
    "\n",
    "# fig.write_html('fig1.html')\n",
    "fig.show() # Notebook viewers cannot show interactive plot; see htmls in the \"figs\" folder"
   ]
  },
  {
   "cell_type": "code",
   "execution_count": null,
   "metadata": {},
   "outputs": [
    {
     "data": {
      "application/vnd.plotly.v1+json": {
       "config": {
        "plotlyServerURL": "https://plot.ly"
       },
       "data": [
        {
         "customdata": [
          [
           "assertBound",
           "(28260, 28346)"
          ],
          [
           "bind",
           "(9696, 12335)"
          ],
          [
           "transferProgress",
           "(11116, 12230)"
          ],
          [
           "check",
           "(16265, 16481)"
          ],
          [
           "checkInterrupted",
           "(27823, 28018)"
          ],
          [
           "configure",
           "(15099, 15369)"
          ],
          [
           "configure",
           "(14820, 15093)"
          ],
          [
           "configureDefault",
           "(15375, 15633)"
          ],
          [
           "configureDefault14",
           "(15826, 16088)"
          ],
          [
           "deliver",
           "(19986, 20287)"
          ],
          [
           "deliver",
           "(20723, 21053)"
          ],
          [
           "deliver",
           "(19629, 19980)"
          ],
          [
           "doInIvyContext",
           "(5346, 5397)"
          ],
          [
           "execute",
           "(12905, 13124)"
          ],
          [
           "findModule",
           "(23402, 23725)"
          ],
          [
           "getCheckEngine",
           "(29800, 29871)"
          ],
          [
           "getDeliverEngine",
           "(29982, 30059)"
          ],
          [
           "getEventManager",
           "(29720, 29794)"
          ],
          [
           "getInstallEngine",
           "(30180, 30257)"
          ],
          [
           "getIvyDate",
           "(7038, 7104)"
          ],
          [
           "getIvyHomeURL",
           "(7250, 7340)"
          ],
          [
           "getIvyVersion",
           "(6761, 6833)"
          ],
          [
           "getLoggerEngine",
           "(31789, 31870)"
          ],
          [
           "getPublishEngine",
           "(30378, 30455)"
          ],
          [
           "getRepositoryEngine",
           "(31344, 31440)"
          ],
          [
           "getResolutionCacheManager",
           "(28136, 28254)"
          ],
          [
           "getResolveEngine",
           "(30576, 30653)"
          ],
          [
           "getRetrieveEngine",
           "(30774, 30854)"
          ],
          [
           "getSearchEngine",
           "(30980, 31054)"
          ],
          [
           "getSettings",
           "(29649, 29714)"
          ],
          [
           "getSortEngine",
           "(31170, 31238)"
          ],
          [
           "getVariable",
           "(28802, 29015)"
          ],
          [
           "getWorkingRevision",
           "(28024, 28130)"
          ],
          [
           "install",
           "(18380, 18678)"
          ],
          [
           "interrupt",
           "(26451, 27600)"
          ],
          [
           "interrupt",
           "(26094, 26240)"
          ],
          [
           "isInterrupted",
           "(27606, 27685)"
          ],
          [
           "listModuleEntries",
           "(23731, 23949)"
          ],
          [
           "listModules",
           "(24198, 24451)"
          ],
          [
           "listModules",
           "(24457, 24647)"
          ],
          [
           "listModules",
           "(23955, 24192)"
          ],
          [
           "listOrganisationEntries",
           "(24653, 24865)"
          ],
          [
           "listOrganisations",
           "(24871, 25060)"
          ],
          [
           "listRevisionEntries",
           "(25066, 25290)"
          ],
          [
           "listRevisions",
           "(25296, 25513)"
          ],
          [
           "listTokenValues",
           "(25519, 25777)"
          ],
          [
           "newInstance",
           "(7460, 7623)"
          ],
          [
           "newInstance",
           "(7346, 7454)"
          ],
          [
           "popContext",
           "(14570, 14635)"
          ],
          [
           "postConfigure",
           "(28352, 28796)"
          ],
          [
           "publish",
           "(21233, 21610)"
          ],
          [
           "pushContext",
           "(13648, 14175)"
          ],
          [
           "resolve",
           "(16900, 17132)"
          ],
          [
           "resolve",
           "(17138, 17446)"
          ],
          [
           "resolve",
           "(17452, 17729)"
          ],
          [
           "resolve",
           "(17735, 17918)"
          ],
          [
           "resolve",
           "(17924, 18200)"
          ],
          [
           "resolve",
           "(16661, 16894)"
          ],
          [
           "retrieve",
           "(19180, 19449)"
          ],
          [
           "retrieve",
           "(18859, 19174)"
          ],
          [
           "setCheckEngine",
           "(29877, 29976)"
          ],
          [
           "setDeliverEngine",
           "(30065, 30174)"
          ],
          [
           "setEventManager",
           "(31586, 31690)"
          ],
          [
           "setInstallEngine",
           "(30263, 30372)"
          ],
          [
           "setPublishEngine",
           "(30461, 30570)"
          ],
          [
           "setRepositoryEngine",
           "(31446, 31580)"
          ],
          [
           "setResolveEngine",
           "(30659, 30768)"
          ],
          [
           "setRetrieveEngine",
           "(30860, 30974)"
          ],
          [
           "setSearchEngine",
           "(31060, 31164)"
          ],
          [
           "setSettings",
           "(31696, 31783)"
          ],
          [
           "setSortEngine",
           "(31244, 31338)"
          ],
          [
           "setVariable",
           "(29236, 29467)"
          ],
          [
           "sortModuleDescriptors",
           "(22903, 23223)"
          ],
          [
           "sortNodes",
           "(22010, 22251)"
          ],
          [
           "substitute",
           "(29021, 29230)"
          ]
         ],
         "hovertemplate": "x: %{x} <br>y: %{y} <br>Method name: %{customdata[0]} <br>span: %{customdata[1]}",
         "marker": {
          "color": [
           28260,
           9696,
           11116,
           16265,
           27823,
           15099,
           14820,
           15375,
           15826,
           19986,
           20723,
           19629,
           5346,
           12905,
           23402,
           29800,
           29982,
           29720,
           30180,
           7038,
           7250,
           6761,
           31789,
           30378,
           31344,
           28136,
           30576,
           30774,
           30980,
           29649,
           31170,
           28802,
           28024,
           18380,
           26451,
           26094,
           27606,
           23731,
           24198,
           24457,
           23955,
           24653,
           24871,
           25066,
           25296,
           25519,
           7460,
           7346,
           14570,
           28352,
           21233,
           13648,
           16900,
           17138,
           17452,
           17735,
           17924,
           16661,
           19180,
           18859,
           29877,
           30065,
           31586,
           30263,
           30461,
           31446,
           30659,
           30860,
           31060,
           31696,
           31244,
           29236,
           22903,
           22010,
           29021
          ],
          "colorscale": [
           [
            0,
            "#440154"
           ],
           [
            0.1111111111111111,
            "#482878"
           ],
           [
            0.2222222222222222,
            "#3e4989"
           ],
           [
            0.3333333333333333,
            "#31688e"
           ],
           [
            0.4444444444444444,
            "#26828e"
           ],
           [
            0.5555555555555556,
            "#1f9e89"
           ],
           [
            0.6666666666666666,
            "#35b779"
           ],
           [
            0.7777777777777778,
            "#6ece58"
           ],
           [
            0.8888888888888888,
            "#b5de2b"
           ],
           [
            1,
            "#fde725"
           ]
          ],
          "opacity": 0.7,
          "size": 5
         },
         "mode": "markers",
         "name": "",
         "type": "scatter3d",
         "x": [
          -26.55017651379624,
          0.8821719870487202,
          -27.99115328609519,
          -9.395874256018883,
          -40.62434437471887,
          -23.86150848633226,
          -24.298107905458856,
          -27.758636083581006,
          -27.38691047772574,
          10.545046457906297,
          10.447287602756465,
          10.036243788026773,
          -2.889045587087745,
          -11.609663791127613,
          -2.4884961439639275,
          16.720176482212295,
          30.46837560109439,
          -2.3121505214903646,
          26.76708629604261,
          0.9784999432806496,
          14.13875960968119,
          6.214343175356695,
          11.936077248052284,
          24.343235699866558,
          16.640735469636358,
          24.642138378211783,
          18.170629809766503,
          19.883837557594497,
          8.923205733341362,
          7.098406685013694,
          18.311611662889142,
          -32.63658484916979,
          -30.553941879447457,
          2.9428444246370344,
          -18.586600287095457,
          -11.975225728878465,
          -29.593121930106282,
          -7.30558877643797,
          -10.480853091723164,
          -16.251215863744164,
          -14.221987199245678,
          -7.968890582475303,
          -15.283217095654722,
          -4.345434453362447,
          -10.137116093161923,
          -15.102760753104056,
          4.5968904528141605,
          0.18010160728498176,
          -18.73401995432598,
          27.33516775157133,
          6.39590003193696,
          -19.335463680449184,
          -7.759730517648485,
          -3.098904123440891,
          -7.754874358631413,
          -6.29312946882587,
          -9.53040557437908,
          -7.361902174515834,
          -4.594045987511044,
          -10.20971783615777,
          23.348959928415184,
          36.738256341649176,
          -1.307444056675388,
          32.93542303306408,
          33.15592972651784,
          23.926691152871356,
          27.62663736868853,
          28.947327595843564,
          14.891870767730031,
          16.2134450100382,
          24.14345642175339,
          -24.466557474654437,
          7.782421202567335,
          18.4580219804475,
          -34.712412767390006
         ],
         "y": [
          31.40785873174154,
          5.5197512233118085,
          -17.158958891081596,
          -1.5420018233966455,
          18.4111191053655,
          0.37541023061116857,
          -1.6886731825713928,
          -1.1364599152098773,
          -3.8010762366166624,
          -23.215330545315677,
          -21.693063278865054,
          -16.8722934719509,
          -6.369530118463362,
          2.7083043119242998,
          -29.515407855182666,
          25.248543126544643,
          2.230346848349566,
          36.832178024382415,
          0.2303549677125392,
          19.71386000497035,
          16.170549512194718,
          22.21660907103565,
          27.366024445501495,
          12.857776681022745,
          19.001401981793293,
          -25.431520799775107,
          -4.728895079694614,
          13.752670209980186,
          12.919600137773987,
          5.988165645854103,
          -0.35314790652443173,
          12.522074108547942,
          -28.30014784952633,
          -29.15999909896057,
          21.445204822139466,
          31.456364117177777,
          28.930974967794597,
          -2.9398375790823663,
          -18.743864707049113,
          -6.330503531654561,
          -14.184205988698478,
          9.587094095878559,
          8.280105588954951,
          -15.281666379773108,
          -11.18915626533838,
          18.290103891386703,
          0.8567059898433752,
          7.611078129546607,
          9.572684265359054,
          -16.32233007859845,
          -24.69288294939622,
          -0.6202535873290526,
          -14.400868009189749,
          -26.149616187082156,
          -18.36946422165485,
          -22.841013549738626,
          -18.90864310795286,
          -15.21322618607609,
          -12.541432678745553,
          -30.625761576273266,
          27.396746635940353,
          2.3181611360281558,
          39.10609164415762,
          -2.0467371000425754,
          12.548326703414418,
          19.4540756305344,
          -10.919584462491265,
          15.439150829007465,
          11.604768217520446,
          -1.736750537209603,
          -3.257441828321496,
          12.451404417823907,
          -25.263017078528428,
          -32.407320040101276,
          -5.869555767663308
         ],
         "z": [
          -9.30535384240173,
          -0.9392124477637851,
          19.3107220630567,
          11.93019753929511,
          11.788602803485263,
          -4.644806828656894,
          -3.4349498231519404,
          -0.4435254305133194,
          0.5323596957304377,
          22.343445939767708,
          15.8394877648037,
          15.40447367174069,
          38.70731605020906,
          20.920079577686604,
          -11.314598323798267,
          -0.5786413757427806,
          6.373240327947775,
          -5.0523314693889,
          -9.802007509253329,
          29.457997470731556,
          31.309988614584615,
          26.759259792019407,
          -11.490995087667411,
          -7.751545541144465,
          -17.001783762260526,
          -8.262777745595315,
          -2.3190040917561996,
          3.1411243863087313,
          -21.400834984562508,
          27.548895107092306,
          -21.84795249907345,
          -15.613549994590567,
          -4.323570558834758,
          -1.4094440414130918,
          6.944546095428773,
          20.86211876418622,
          10.026964180568315,
          -31.58710026367391,
          -20.92415444848127,
          -28.154289882475915,
          -18.90398284991484,
          -36.33271001438966,
          -34.97405590155898,
          -31.969633756869342,
          -26.131009488187892,
          -26.987530782293824,
          35.424499159243524,
          40.15408756160709,
          26.426205417533655,
          21.92154372578068,
          -11.75693816040675,
          35.492557321442966,
          14.133927436187818,
          -1.4880230995355892,
          12.293830142021912,
          20.41666061064792,
          -1.416642415779405,
          14.90579714727246,
          -5.2931329688387985,
          -2.3753258105689494,
          -1.7455633289841543,
          4.951518998458349,
          -9.051869396012279,
          -10.941809823818629,
          -8.870571868381298,
          -20.066512448199028,
          -1.9113358195163994,
          5.688946898256882,
          -29.215969383475393,
          33.86878062100035,
          -26.023330890438103,
          -5.34023216911972,
          -27.696522918610295,
          1.829214602937605,
          -10.613256239934547
         ]
        }
       ],
       "layout": {
        "margin": {
         "b": 0,
         "l": 0,
         "r": 0,
         "t": 0
        },
        "template": {
         "data": {
          "bar": [
           {
            "error_x": {
             "color": "#2a3f5f"
            },
            "error_y": {
             "color": "#2a3f5f"
            },
            "marker": {
             "line": {
              "color": "#E5ECF6",
              "width": 0.5
             },
             "pattern": {
              "fillmode": "overlay",
              "size": 10,
              "solidity": 0.2
             }
            },
            "type": "bar"
           }
          ],
          "barpolar": [
           {
            "marker": {
             "line": {
              "color": "#E5ECF6",
              "width": 0.5
             },
             "pattern": {
              "fillmode": "overlay",
              "size": 10,
              "solidity": 0.2
             }
            },
            "type": "barpolar"
           }
          ],
          "carpet": [
           {
            "aaxis": {
             "endlinecolor": "#2a3f5f",
             "gridcolor": "white",
             "linecolor": "white",
             "minorgridcolor": "white",
             "startlinecolor": "#2a3f5f"
            },
            "baxis": {
             "endlinecolor": "#2a3f5f",
             "gridcolor": "white",
             "linecolor": "white",
             "minorgridcolor": "white",
             "startlinecolor": "#2a3f5f"
            },
            "type": "carpet"
           }
          ],
          "choropleth": [
           {
            "colorbar": {
             "outlinewidth": 0,
             "ticks": ""
            },
            "type": "choropleth"
           }
          ],
          "contour": [
           {
            "colorbar": {
             "outlinewidth": 0,
             "ticks": ""
            },
            "colorscale": [
             [
              0,
              "#0d0887"
             ],
             [
              0.1111111111111111,
              "#46039f"
             ],
             [
              0.2222222222222222,
              "#7201a8"
             ],
             [
              0.3333333333333333,
              "#9c179e"
             ],
             [
              0.4444444444444444,
              "#bd3786"
             ],
             [
              0.5555555555555556,
              "#d8576b"
             ],
             [
              0.6666666666666666,
              "#ed7953"
             ],
             [
              0.7777777777777778,
              "#fb9f3a"
             ],
             [
              0.8888888888888888,
              "#fdca26"
             ],
             [
              1,
              "#f0f921"
             ]
            ],
            "type": "contour"
           }
          ],
          "contourcarpet": [
           {
            "colorbar": {
             "outlinewidth": 0,
             "ticks": ""
            },
            "type": "contourcarpet"
           }
          ],
          "heatmap": [
           {
            "colorbar": {
             "outlinewidth": 0,
             "ticks": ""
            },
            "colorscale": [
             [
              0,
              "#0d0887"
             ],
             [
              0.1111111111111111,
              "#46039f"
             ],
             [
              0.2222222222222222,
              "#7201a8"
             ],
             [
              0.3333333333333333,
              "#9c179e"
             ],
             [
              0.4444444444444444,
              "#bd3786"
             ],
             [
              0.5555555555555556,
              "#d8576b"
             ],
             [
              0.6666666666666666,
              "#ed7953"
             ],
             [
              0.7777777777777778,
              "#fb9f3a"
             ],
             [
              0.8888888888888888,
              "#fdca26"
             ],
             [
              1,
              "#f0f921"
             ]
            ],
            "type": "heatmap"
           }
          ],
          "heatmapgl": [
           {
            "colorbar": {
             "outlinewidth": 0,
             "ticks": ""
            },
            "colorscale": [
             [
              0,
              "#0d0887"
             ],
             [
              0.1111111111111111,
              "#46039f"
             ],
             [
              0.2222222222222222,
              "#7201a8"
             ],
             [
              0.3333333333333333,
              "#9c179e"
             ],
             [
              0.4444444444444444,
              "#bd3786"
             ],
             [
              0.5555555555555556,
              "#d8576b"
             ],
             [
              0.6666666666666666,
              "#ed7953"
             ],
             [
              0.7777777777777778,
              "#fb9f3a"
             ],
             [
              0.8888888888888888,
              "#fdca26"
             ],
             [
              1,
              "#f0f921"
             ]
            ],
            "type": "heatmapgl"
           }
          ],
          "histogram": [
           {
            "marker": {
             "pattern": {
              "fillmode": "overlay",
              "size": 10,
              "solidity": 0.2
             }
            },
            "type": "histogram"
           }
          ],
          "histogram2d": [
           {
            "colorbar": {
             "outlinewidth": 0,
             "ticks": ""
            },
            "colorscale": [
             [
              0,
              "#0d0887"
             ],
             [
              0.1111111111111111,
              "#46039f"
             ],
             [
              0.2222222222222222,
              "#7201a8"
             ],
             [
              0.3333333333333333,
              "#9c179e"
             ],
             [
              0.4444444444444444,
              "#bd3786"
             ],
             [
              0.5555555555555556,
              "#d8576b"
             ],
             [
              0.6666666666666666,
              "#ed7953"
             ],
             [
              0.7777777777777778,
              "#fb9f3a"
             ],
             [
              0.8888888888888888,
              "#fdca26"
             ],
             [
              1,
              "#f0f921"
             ]
            ],
            "type": "histogram2d"
           }
          ],
          "histogram2dcontour": [
           {
            "colorbar": {
             "outlinewidth": 0,
             "ticks": ""
            },
            "colorscale": [
             [
              0,
              "#0d0887"
             ],
             [
              0.1111111111111111,
              "#46039f"
             ],
             [
              0.2222222222222222,
              "#7201a8"
             ],
             [
              0.3333333333333333,
              "#9c179e"
             ],
             [
              0.4444444444444444,
              "#bd3786"
             ],
             [
              0.5555555555555556,
              "#d8576b"
             ],
             [
              0.6666666666666666,
              "#ed7953"
             ],
             [
              0.7777777777777778,
              "#fb9f3a"
             ],
             [
              0.8888888888888888,
              "#fdca26"
             ],
             [
              1,
              "#f0f921"
             ]
            ],
            "type": "histogram2dcontour"
           }
          ],
          "mesh3d": [
           {
            "colorbar": {
             "outlinewidth": 0,
             "ticks": ""
            },
            "type": "mesh3d"
           }
          ],
          "parcoords": [
           {
            "line": {
             "colorbar": {
              "outlinewidth": 0,
              "ticks": ""
             }
            },
            "type": "parcoords"
           }
          ],
          "pie": [
           {
            "automargin": true,
            "type": "pie"
           }
          ],
          "scatter": [
           {
            "fillpattern": {
             "fillmode": "overlay",
             "size": 10,
             "solidity": 0.2
            },
            "type": "scatter"
           }
          ],
          "scatter3d": [
           {
            "line": {
             "colorbar": {
              "outlinewidth": 0,
              "ticks": ""
             }
            },
            "marker": {
             "colorbar": {
              "outlinewidth": 0,
              "ticks": ""
             }
            },
            "type": "scatter3d"
           }
          ],
          "scattercarpet": [
           {
            "marker": {
             "colorbar": {
              "outlinewidth": 0,
              "ticks": ""
             }
            },
            "type": "scattercarpet"
           }
          ],
          "scattergeo": [
           {
            "marker": {
             "colorbar": {
              "outlinewidth": 0,
              "ticks": ""
             }
            },
            "type": "scattergeo"
           }
          ],
          "scattergl": [
           {
            "marker": {
             "colorbar": {
              "outlinewidth": 0,
              "ticks": ""
             }
            },
            "type": "scattergl"
           }
          ],
          "scattermapbox": [
           {
            "marker": {
             "colorbar": {
              "outlinewidth": 0,
              "ticks": ""
             }
            },
            "type": "scattermapbox"
           }
          ],
          "scatterpolar": [
           {
            "marker": {
             "colorbar": {
              "outlinewidth": 0,
              "ticks": ""
             }
            },
            "type": "scatterpolar"
           }
          ],
          "scatterpolargl": [
           {
            "marker": {
             "colorbar": {
              "outlinewidth": 0,
              "ticks": ""
             }
            },
            "type": "scatterpolargl"
           }
          ],
          "scatterternary": [
           {
            "marker": {
             "colorbar": {
              "outlinewidth": 0,
              "ticks": ""
             }
            },
            "type": "scatterternary"
           }
          ],
          "surface": [
           {
            "colorbar": {
             "outlinewidth": 0,
             "ticks": ""
            },
            "colorscale": [
             [
              0,
              "#0d0887"
             ],
             [
              0.1111111111111111,
              "#46039f"
             ],
             [
              0.2222222222222222,
              "#7201a8"
             ],
             [
              0.3333333333333333,
              "#9c179e"
             ],
             [
              0.4444444444444444,
              "#bd3786"
             ],
             [
              0.5555555555555556,
              "#d8576b"
             ],
             [
              0.6666666666666666,
              "#ed7953"
             ],
             [
              0.7777777777777778,
              "#fb9f3a"
             ],
             [
              0.8888888888888888,
              "#fdca26"
             ],
             [
              1,
              "#f0f921"
             ]
            ],
            "type": "surface"
           }
          ],
          "table": [
           {
            "cells": {
             "fill": {
              "color": "#EBF0F8"
             },
             "line": {
              "color": "white"
             }
            },
            "header": {
             "fill": {
              "color": "#C8D4E3"
             },
             "line": {
              "color": "white"
             }
            },
            "type": "table"
           }
          ]
         },
         "layout": {
          "annotationdefaults": {
           "arrowcolor": "#2a3f5f",
           "arrowhead": 0,
           "arrowwidth": 1
          },
          "autotypenumbers": "strict",
          "coloraxis": {
           "colorbar": {
            "outlinewidth": 0,
            "ticks": ""
           }
          },
          "colorscale": {
           "diverging": [
            [
             0,
             "#8e0152"
            ],
            [
             0.1,
             "#c51b7d"
            ],
            [
             0.2,
             "#de77ae"
            ],
            [
             0.3,
             "#f1b6da"
            ],
            [
             0.4,
             "#fde0ef"
            ],
            [
             0.5,
             "#f7f7f7"
            ],
            [
             0.6,
             "#e6f5d0"
            ],
            [
             0.7,
             "#b8e186"
            ],
            [
             0.8,
             "#7fbc41"
            ],
            [
             0.9,
             "#4d9221"
            ],
            [
             1,
             "#276419"
            ]
           ],
           "sequential": [
            [
             0,
             "#0d0887"
            ],
            [
             0.1111111111111111,
             "#46039f"
            ],
            [
             0.2222222222222222,
             "#7201a8"
            ],
            [
             0.3333333333333333,
             "#9c179e"
            ],
            [
             0.4444444444444444,
             "#bd3786"
            ],
            [
             0.5555555555555556,
             "#d8576b"
            ],
            [
             0.6666666666666666,
             "#ed7953"
            ],
            [
             0.7777777777777778,
             "#fb9f3a"
            ],
            [
             0.8888888888888888,
             "#fdca26"
            ],
            [
             1,
             "#f0f921"
            ]
           ],
           "sequentialminus": [
            [
             0,
             "#0d0887"
            ],
            [
             0.1111111111111111,
             "#46039f"
            ],
            [
             0.2222222222222222,
             "#7201a8"
            ],
            [
             0.3333333333333333,
             "#9c179e"
            ],
            [
             0.4444444444444444,
             "#bd3786"
            ],
            [
             0.5555555555555556,
             "#d8576b"
            ],
            [
             0.6666666666666666,
             "#ed7953"
            ],
            [
             0.7777777777777778,
             "#fb9f3a"
            ],
            [
             0.8888888888888888,
             "#fdca26"
            ],
            [
             1,
             "#f0f921"
            ]
           ]
          },
          "colorway": [
           "#636efa",
           "#EF553B",
           "#00cc96",
           "#ab63fa",
           "#FFA15A",
           "#19d3f3",
           "#FF6692",
           "#B6E880",
           "#FF97FF",
           "#FECB52"
          ],
          "font": {
           "color": "#2a3f5f"
          },
          "geo": {
           "bgcolor": "white",
           "lakecolor": "white",
           "landcolor": "#E5ECF6",
           "showlakes": true,
           "showland": true,
           "subunitcolor": "white"
          },
          "hoverlabel": {
           "align": "left"
          },
          "hovermode": "closest",
          "mapbox": {
           "style": "light"
          },
          "paper_bgcolor": "white",
          "plot_bgcolor": "#E5ECF6",
          "polar": {
           "angularaxis": {
            "gridcolor": "white",
            "linecolor": "white",
            "ticks": ""
           },
           "bgcolor": "#E5ECF6",
           "radialaxis": {
            "gridcolor": "white",
            "linecolor": "white",
            "ticks": ""
           }
          },
          "scene": {
           "xaxis": {
            "backgroundcolor": "#E5ECF6",
            "gridcolor": "white",
            "gridwidth": 2,
            "linecolor": "white",
            "showbackground": true,
            "ticks": "",
            "zerolinecolor": "white"
           },
           "yaxis": {
            "backgroundcolor": "#E5ECF6",
            "gridcolor": "white",
            "gridwidth": 2,
            "linecolor": "white",
            "showbackground": true,
            "ticks": "",
            "zerolinecolor": "white"
           },
           "zaxis": {
            "backgroundcolor": "#E5ECF6",
            "gridcolor": "white",
            "gridwidth": 2,
            "linecolor": "white",
            "showbackground": true,
            "ticks": "",
            "zerolinecolor": "white"
           }
          },
          "shapedefaults": {
           "line": {
            "color": "#2a3f5f"
           }
          },
          "ternary": {
           "aaxis": {
            "gridcolor": "white",
            "linecolor": "white",
            "ticks": ""
           },
           "baxis": {
            "gridcolor": "white",
            "linecolor": "white",
            "ticks": ""
           },
           "bgcolor": "#E5ECF6",
           "caxis": {
            "gridcolor": "white",
            "linecolor": "white",
            "ticks": ""
           }
          },
          "title": {
           "x": 0.05
          },
          "xaxis": {
           "automargin": true,
           "gridcolor": "white",
           "linecolor": "white",
           "ticks": "",
           "title": {
            "standoff": 15
           },
           "zerolinecolor": "white",
           "zerolinewidth": 2
          },
          "yaxis": {
           "automargin": true,
           "gridcolor": "white",
           "linecolor": "white",
           "ticks": "",
           "title": {
            "standoff": 15
           },
           "zerolinecolor": "white",
           "zerolinewidth": 2
          }
         }
        }
       }
      }
     },
     "metadata": {},
     "output_type": "display_data"
    }
   ],
   "source": [
    "# Same as before, except color is based on start indices of the associated code fragments\n",
    "color = [span[0] for span in data['spans']]\n",
    "\n",
    "fig = go.Figure(data=[go.Scatter3d(x=pos[:,0], y=pos[:,1], z=pos[:,2],\n",
    "                                   mode='markers',\n",
    "                                   marker=dict(color=color, colorscale='Viridis',\n",
    "                                               size=5, opacity=0.7),\n",
    "                                   customdata = customdata,\n",
    "                                   hovertemplate = 'x: %{x} <br>y: %{y} <br>Method name: %{customdata[0]} <br>span: %{customdata[1]}',\n",
    "                                   name = '' # Remove trace from tooltips\n",
    "                                   )])\n",
    "\n",
    "# Tight layout\n",
    "fig.update_layout(margin=dict(l=0, r=0, b=0, t=0))\n",
    "\n",
    "# fig.write_html('fig2.html')\n",
    "fig.show()"
   ]
  },
  {
   "cell_type": "code",
   "execution_count": null,
   "metadata": {},
   "outputs": [],
   "source": []
  }
 ],
 "metadata": {
  "kernelspec": {
   "display_name": "csci420_05",
   "language": "python",
   "name": "python3"
  },
  "language_info": {
   "codemirror_mode": {
    "name": "ipython",
    "version": 3
   },
   "file_extension": ".py",
   "mimetype": "text/x-python",
   "name": "python",
   "nbconvert_exporter": "python",
   "pygments_lexer": "ipython3",
   "version": "3.12.7"
  }
 },
 "nbformat": 4,
 "nbformat_minor": 2
}
